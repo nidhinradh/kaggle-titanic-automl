{
 "cells": [
  {
   "cell_type": "markdown",
   "metadata": {},
   "source": [
    "# AutoML for Beginners with H2O\n",
    "### Titanic - Machine Learning from Disaster Challenge | Kaggle"
   ]
  },
  {
   "cell_type": "markdown",
   "metadata": {},
   "source": [
    "This is a Jupyter Notebook. When you execute code within the notebook, the results appear beneath the code. To execute a code chunk, place your cursor on the cell and press Shift+Enter"
   ]
  },
  {
   "cell_type": "markdown",
   "metadata": {},
   "source": [
    "This is the famous **\"Titanic - Machine Learning from Disaster\"** competition from [Kaggle](https://www.kaggle.com/c/titanic/overview). If you are new to Machine Learning this is one of the best, first challenges for you to dive into Machine Learning.\n",
    "The challenge is to use machine learning to create a model that predicts which passengers survived the Titanic shipwreck.\n",
    "We are going to do this by using [H2O AutoML](https://docs.h2o.ai/h2o/latest-stable/h2o-docs/automl.html)."
   ]
  },
  {
   "cell_type": "markdown",
   "metadata": {},
   "source": [
    "[H2O](https://www.h2o.ai) is a fully open-source, distributed in-memory machine learning platform with linear scalability. H2O supports the most widely used statistical & machine learning algorithms including gradient boosted machines, generalized linear models, deep learning and more. H2O also has an industry-leading AutoML functionality that automatically runs through all the algorithms and their hyperparameters to produce a leaderboard of the best models."
   ]
  },
  {
   "cell_type": "markdown",
   "metadata": {},
   "source": [
    "H2O’s AutoML can be used for automating the machine learning workflow, which includes automatic training and tuning of many models within a user-specified time limit."
   ]
  },
  {
   "cell_type": "markdown",
   "metadata": {},
   "source": [
    "H2O has made it easy for non-experts to experiment with machine learning through AutoMl. But, there is still a fair bit of knowledge and background in data science that is required to produce high-performing machine learning models.\n",
    "It is also useful for advanced users. H2O helps them by freeing up their time to focus on other aspects of the data science pipeline tasks such as data-preprocessing, feature engineering and model deployment."
   ]
  },
  {
   "cell_type": "markdown",
   "metadata": {},
   "source": [
    "### RMS Titanic"
   ]
  },
  {
   "cell_type": "markdown",
   "metadata": {},
   "source": [
    "\"RMS Titanic was a British passenger liner operated by the White Star Line that sank in the North Atlantic Ocean on 15 April 1912, after striking an iceberg during her maiden voyage from Southampton to New York City. Of the estimated 2,224 passengers and crew aboard, more than 1,500 died, making the sinking at the time one of the deadliest of a single ship and the deadliest peacetime sinking of a superliner or cruise ship to date.\" -  [Wikipedia](https://en.wikipedia.org/wiki/Titanic)"
   ]
  },
  {
   "cell_type": "markdown",
   "metadata": {},
   "source": [
    "## Prerequisites"
   ]
  },
  {
   "cell_type": "markdown",
   "metadata": {},
   "source": [
    "We are going to do this challenge using H2O in Python. The prerequisites for this is as follows,\n",
    "<ol>\n",
    "    <li>\n",
    "        <p>Operating Systems</p>\n",
    "        <ul>\n",
    "            <li>Windows 7 or later</li>\n",
    "            <li>OS X 10.9 or later</li>\n",
    "            <li>Ubuntu 12.04 or later</li>\n",
    "            <li>RHEL/CentOS 6 or later</li>\n",
    "        </ul>\n",
    "    </li>\n",
    "    <li>\n",
    "        <p>Language</p>\n",
    "        <ul>\n",
    "            <li>Python 2.7.x, 3.5.x, 3.6.x</li>\n",
    "        </ul>\n",
    "    </li>\n",
    "</ol>"
   ]
  },
  {
   "cell_type": "markdown",
   "metadata": {},
   "source": [
    "You need Java installed and JAVA_HOME environment variable set in your system to run H2O.\n",
    "\n",
    "Download and install Java([Amazon Correto](https://aws.amazon.com/corretto/)) from [here](https://docs.aws.amazon.com/corretto/latest/corretto-8-ug/downloads-list.html).\n",
    "\n",
    "The installer will automatically set the JAVA_HOME environment variable for you."
   ]
  },
  {
   "cell_type": "markdown",
   "metadata": {},
   "source": [
    "<em>\n",
    "Amazon Corretto is a no-cost, multiplatform, production-ready distribution of the Open Java Development Kit (OpenJDK). Corretto comes with long-term support that will include performance enhancements and security fixes.\n",
    "</em>"
   ]
  },
  {
   "cell_type": "markdown",
   "metadata": {},
   "source": [
    "You can download Python 3.6 from here: [Windows(exe)](https://www.python.org/ftp/python/3.6.6/python-3.6.6-amd64.exe)/[Linux(source)](https://www.python.org/ftp/python/3.6.6/Python-3.6.6.tgz)"
   ]
  },
  {
   "cell_type": "markdown",
   "metadata": {},
   "source": [
    "## Installing H20"
   ]
  },
  {
   "cell_type": "markdown",
   "metadata": {},
   "source": [
    "First you need to install the dependencies (prepending with `sudo` if needed):"
   ]
  },
  {
   "cell_type": "code",
   "execution_count": 1,
   "metadata": {},
   "outputs": [
    {
     "name": "stdout",
     "output_type": "stream",
     "text": [
      "Requirement already satisfied: requests in c:\\users\\nidhi\\appdata\\local\\programs\\python\\python36\\lib\\site-packages (2.25.1)\n",
      "Requirement already satisfied: certifi>=2017.4.17 in c:\\users\\nidhi\\appdata\\local\\programs\\python\\python36\\lib\\site-packages (from requests) (2020.12.5)\n",
      "Requirement already satisfied: urllib3<1.27,>=1.21.1 in c:\\users\\nidhi\\appdata\\local\\programs\\python\\python36\\lib\\site-packages (from requests) (1.26.4)\n",
      "Requirement already satisfied: idna<3,>=2.5 in c:\\users\\nidhi\\appdata\\local\\programs\\python\\python36\\lib\\site-packages (from requests) (2.10)\n",
      "Requirement already satisfied: chardet<5,>=3.0.2 in c:\\users\\nidhi\\appdata\\local\\programs\\python\\python36\\lib\\site-packages (from requests) (4.0.0)\n"
     ]
    },
    {
     "name": "stderr",
     "output_type": "stream",
     "text": [
      "You are using pip version 18.1, however version 21.0.1 is available.\n",
      "You should consider upgrading via the 'python -m pip install --upgrade pip' command.\n"
     ]
    },
    {
     "name": "stdout",
     "output_type": "stream",
     "text": [
      "Requirement already satisfied: tabulate in c:\\users\\nidhi\\appdata\\local\\programs\\python\\python36\\lib\\site-packages (0.8.9)\n"
     ]
    },
    {
     "name": "stderr",
     "output_type": "stream",
     "text": [
      "You are using pip version 18.1, however version 21.0.1 is available.\n",
      "You should consider upgrading via the 'python -m pip install --upgrade pip' command.\n"
     ]
    },
    {
     "name": "stdout",
     "output_type": "stream",
     "text": [
      "Requirement already satisfied: colorama>=0.3.8 in c:\\users\\nidhi\\appdata\\local\\programs\\python\\python36\\lib\\site-packages (0.4.4)\n"
     ]
    },
    {
     "name": "stderr",
     "output_type": "stream",
     "text": [
      "You are using pip version 18.1, however version 21.0.1 is available.\n",
      "You should consider upgrading via the 'python -m pip install --upgrade pip' command.\n"
     ]
    },
    {
     "name": "stdout",
     "output_type": "stream",
     "text": [
      "Requirement already satisfied: future in c:\\users\\nidhi\\appdata\\local\\programs\\python\\python36\\lib\\site-packages (0.18.2)\n"
     ]
    },
    {
     "name": "stderr",
     "output_type": "stream",
     "text": [
      "You are using pip version 18.1, however version 21.0.1 is available.\n",
      "You should consider upgrading via the 'python -m pip install --upgrade pip' command.\n"
     ]
    }
   ],
   "source": [
    "#Remove ! from each line if you are running the commands from CLI\n",
    "!pip install requests\n",
    "!pip install tabulate\n",
    "!pip install \"colorama>=0.3.8\"\n",
    "!pip install future"
   ]
  },
  {
   "cell_type": "markdown",
   "metadata": {},
   "source": [
    "The following command removes any existing installation of H2O module from Python."
   ]
  },
  {
   "cell_type": "code",
   "execution_count": 2,
   "metadata": {},
   "outputs": [
    {
     "name": "stdout",
     "output_type": "stream",
     "text": [
      "^C\n"
     ]
    }
   ],
   "source": [
    "#Remove ! from each line if you are running the commands from CLI\n",
    "!pip uninstall h2o"
   ]
  },
  {
   "cell_type": "markdown",
   "metadata": {},
   "source": [
    "Next, use pip to install this version of the H2O Python module."
   ]
  },
  {
   "cell_type": "code",
   "execution_count": 3,
   "metadata": {},
   "outputs": [
    {
     "name": "stdout",
     "output_type": "stream",
     "text": [
      "Requirement already satisfied: h2o==3.32.1.1 from http://h2o-release.s3.amazonaws.com/h2o/rel-zipf/1/Python/h2o-3.32.1.1-py2.py3-none-any.whl in c:\\users\\nidhi\\appdata\\local\\programs\\python\\python36\\lib\\site-packages (3.32.1.1)\n",
      "Requirement already satisfied: colorama>=0.3.8 in c:\\users\\nidhi\\appdata\\local\\programs\\python\\python36\\lib\\site-packages (from h2o==3.32.1.1) (0.4.4)\n",
      "Requirement already satisfied: tabulate in c:\\users\\nidhi\\appdata\\local\\programs\\python\\python36\\lib\\site-packages (from h2o==3.32.1.1) (0.8.9)\n",
      "Requirement already satisfied: future in c:\\users\\nidhi\\appdata\\local\\programs\\python\\python36\\lib\\site-packages (from h2o==3.32.1.1) (0.18.2)\n",
      "Requirement already satisfied: requests in c:\\users\\nidhi\\appdata\\local\\programs\\python\\python36\\lib\\site-packages (from h2o==3.32.1.1) (2.25.1)\n",
      "Requirement already satisfied: chardet<5,>=3.0.2 in c:\\users\\nidhi\\appdata\\local\\programs\\python\\python36\\lib\\site-packages (from requests->h2o==3.32.1.1) (4.0.0)\n",
      "Requirement already satisfied: urllib3<1.27,>=1.21.1 in c:\\users\\nidhi\\appdata\\local\\programs\\python\\python36\\lib\\site-packages (from requests->h2o==3.32.1.1) (1.26.4)\n",
      "Requirement already satisfied: certifi>=2017.4.17 in c:\\users\\nidhi\\appdata\\local\\programs\\python\\python36\\lib\\site-packages (from requests->h2o==3.32.1.1) (2020.12.5)\n",
      "Requirement already satisfied: idna<3,>=2.5 in c:\\users\\nidhi\\appdata\\local\\programs\\python\\python36\\lib\\site-packages (from requests->h2o==3.32.1.1) (2.10)\n"
     ]
    },
    {
     "name": "stderr",
     "output_type": "stream",
     "text": [
      "You are using pip version 18.1, however version 21.0.1 is available.\n",
      "You should consider upgrading via the 'python -m pip install --upgrade pip' command.\n"
     ]
    }
   ],
   "source": [
    "#Remove ! from each line if you are running the commands from CLI\n",
    "!pip install http://h2o-release.s3.amazonaws.com/h2o/rel-zipf/1/Python/h2o-3.32.1.1-py2.py3-none-any.whl"
   ]
  },
  {
   "cell_type": "markdown",
   "metadata": {},
   "source": [
    "To install this package with conda, uncomment the second line and run:"
   ]
  },
  {
   "cell_type": "code",
   "execution_count": null,
   "metadata": {},
   "outputs": [],
   "source": [
    "#Remove ! from each line if you are running the commands from CLI\n",
    "#!conda install -c h2oai h2o"
   ]
  },
  {
   "cell_type": "markdown",
   "metadata": {},
   "source": [
    "## Start H2O"
   ]
  },
  {
   "cell_type": "markdown",
   "metadata": {},
   "source": [
    "Import the H2O Python module and `H2OAutoML` class and initialize a local H2O cluster."
   ]
  },
  {
   "cell_type": "code",
   "execution_count": 1,
   "metadata": {},
   "outputs": [
    {
     "name": "stdout",
     "output_type": "stream",
     "text": [
      "Checking whether there is an H2O instance running at http://localhost:54321 . connected.\n"
     ]
    },
    {
     "data": {
      "text/html": [
       "<div style=\"overflow:auto\"><table style=\"width:50%\"><tr><td>H2O_cluster_uptime:</td>\n",
       "<td>13 mins 05 secs</td></tr>\n",
       "<tr><td>H2O_cluster_timezone:</td>\n",
       "<td>Asia/Kolkata</td></tr>\n",
       "<tr><td>H2O_data_parsing_timezone:</td>\n",
       "<td>UTC</td></tr>\n",
       "<tr><td>H2O_cluster_version:</td>\n",
       "<td>3.32.1.1</td></tr>\n",
       "<tr><td>H2O_cluster_version_age:</td>\n",
       "<td>10 days </td></tr>\n",
       "<tr><td>H2O_cluster_name:</td>\n",
       "<td>H2O_from_python_nidhi_fxqxxl</td></tr>\n",
       "<tr><td>H2O_cluster_total_nodes:</td>\n",
       "<td>1</td></tr>\n",
       "<tr><td>H2O_cluster_free_memory:</td>\n",
       "<td>2.434 Gb</td></tr>\n",
       "<tr><td>H2O_cluster_total_cores:</td>\n",
       "<td>8</td></tr>\n",
       "<tr><td>H2O_cluster_allowed_cores:</td>\n",
       "<td>8</td></tr>\n",
       "<tr><td>H2O_cluster_status:</td>\n",
       "<td>locked, healthy</td></tr>\n",
       "<tr><td>H2O_connection_url:</td>\n",
       "<td>http://localhost:54321</td></tr>\n",
       "<tr><td>H2O_connection_proxy:</td>\n",
       "<td>{\"http\": null, \"https\": null}</td></tr>\n",
       "<tr><td>H2O_internal_security:</td>\n",
       "<td>False</td></tr>\n",
       "<tr><td>H2O_API_Extensions:</td>\n",
       "<td>Amazon S3, Algos, AutoML, Core V3, TargetEncoder, Core V4</td></tr>\n",
       "<tr><td>Python_version:</td>\n",
       "<td>3.6.8 final</td></tr></table></div>"
      ],
      "text/plain": [
       "--------------------------  ---------------------------------------------------------\n",
       "H2O_cluster_uptime:         13 mins 05 secs\n",
       "H2O_cluster_timezone:       Asia/Kolkata\n",
       "H2O_data_parsing_timezone:  UTC\n",
       "H2O_cluster_version:        3.32.1.1\n",
       "H2O_cluster_version_age:    10 days\n",
       "H2O_cluster_name:           H2O_from_python_nidhi_fxqxxl\n",
       "H2O_cluster_total_nodes:    1\n",
       "H2O_cluster_free_memory:    2.434 Gb\n",
       "H2O_cluster_total_cores:    8\n",
       "H2O_cluster_allowed_cores:  8\n",
       "H2O_cluster_status:         locked, healthy\n",
       "H2O_connection_url:         http://localhost:54321\n",
       "H2O_connection_proxy:       {\"http\": null, \"https\": null}\n",
       "H2O_internal_security:      False\n",
       "H2O_API_Extensions:         Amazon S3, Algos, AutoML, Core V3, TargetEncoder, Core V4\n",
       "Python_version:             3.6.8 final\n",
       "--------------------------  ---------------------------------------------------------"
      ]
     },
     "metadata": {},
     "output_type": "display_data"
    }
   ],
   "source": [
    "import h2o\n",
    "from h2o.automl import H2OAutoML\n",
    "h2o.init()"
   ]
  },
  {
   "cell_type": "markdown",
   "metadata": {},
   "source": [
    "## Load Data"
   ]
  },
  {
   "cell_type": "markdown",
   "metadata": {},
   "source": [
    "Download and copy the dataset to a subfolder named \"data\" in the same directory as your Python script/Jupiter notebook.\n",
    "The dataset contains two files **train.csv** and **test.csv**.\n",
    "\n",
    "We will use the training set(train.csv) to build our machine learning models. For the training set, we provide the outcome (also known as the “ground truth”) for each passenger. Our model will be based on “features” like passengers’ gender and class.\n",
    "\n",
    "The test set is to see how well our model performs on unseen data. For the test set, we do not provide the ground truth for each passenger. It is our job to predict these outcomes. For each passenger in the test set, we will use the model that we trained to predict whether or not they survived the sinking of the Titanic."
   ]
  },
  {
   "cell_type": "markdown",
   "metadata": {},
   "source": [
    "### Data Dictionary"
   ]
  },
  {
   "cell_type": "markdown",
   "metadata": {},
   "source": [
    "|Variable|Defenition|Key|\n",
    "|:--------|:----------|:----|\n",
    "|survival|Survival|0 = No, 1 = Yes|\n",
    "|pclass|Ticket class|1 = 1st, 2 = 2nd, 3 = 3rd|\n",
    "|sex|Sex| |\n",
    "|Age|Age in years| |\n",
    "|sibsp|# of siblings / spouses aboard the Titanic| |\n",
    "|parch|# of parents / children aboard the Titanic| |\n",
    "|ticket|Ticket number| |\n",
    "|fare|Passenger fare| |\n",
    "|cabin|Cabin number| |\n",
    "|embarked|Port of Embarkation|C = Cherbourg, Q = Queenstown, S = Southampton|"
   ]
  },
  {
   "cell_type": "markdown",
   "metadata": {},
   "source": [
    "Source: [Kaggle](https://www.kaggle.com/c/titanic/data)"
   ]
  },
  {
   "cell_type": "markdown",
   "metadata": {},
   "source": [
    "Now we will load the data into H20."
   ]
  },
  {
   "cell_type": "code",
   "execution_count": 2,
   "metadata": {
    "scrolled": true
   },
   "outputs": [
    {
     "name": "stdout",
     "output_type": "stream",
     "text": [
      "Parse progress: |█████████████████████████████████████████████████████████| 100%\n"
     ]
    }
   ],
   "source": [
    "# Use local data file\n",
    "data_path = \"./data/train.csv\"\n",
    "\n",
    "# Load data into H2O\n",
    "df = h2o.import_file(data_path)"
   ]
  },
  {
   "cell_type": "markdown",
   "metadata": {},
   "source": [
    "### Handling Missing Data and Adding New Features"
   ]
  },
  {
   "cell_type": "markdown",
   "metadata": {},
   "source": [
    "Next, we have to deal with missing values. If you look at the missing row in the above output, there are 687 missing records in Cabin, 177 in Age, and 2 in Embarked columns.\n",
    "\n",
    "A cabin number looks like ‘A123’ and the letter refers to the deck. Therefore we’re going to extract these and create a new feature called Deck."
   ]
  },
  {
   "cell_type": "code",
   "execution_count": 3,
   "metadata": {},
   "outputs": [
    {
     "name": "stdout",
     "output_type": "stream",
     "text": [
      "Rows:891\n",
      "Cols:13\n",
      "\n",
      "\n"
     ]
    },
    {
     "data": {
      "text/html": [
       "<table>\n",
       "<thead>\n",
       "<tr><th>       </th><th>PassengerId      </th><th>Survived          </th><th>Pclass            </th><th>Name                                               </th><th>Sex   </th><th>Age               </th><th>SibSp             </th><th>Parch             </th><th>Ticket            </th><th>Fare             </th><th>Cabin  </th><th>Embarked  </th><th>Deck  </th></tr>\n",
       "</thead>\n",
       "<tbody>\n",
       "<tr><td>type   </td><td>int              </td><td>int               </td><td>int               </td><td>string                                             </td><td>enum  </td><td>real              </td><td>int               </td><td>int               </td><td>int               </td><td>real             </td><td>enum   </td><td>enum      </td><td>enum  </td></tr>\n",
       "<tr><td>mins   </td><td>1.0              </td><td>0.0               </td><td>1.0               </td><td>NaN                                                </td><td>      </td><td>0.42              </td><td>0.0               </td><td>0.0               </td><td>693.0             </td><td>0.0              </td><td>       </td><td>          </td><td>      </td></tr>\n",
       "<tr><td>mean   </td><td>446.0            </td><td>0.3838383838383838</td><td>2.3086419753086447</td><td>NaN                                                </td><td>      </td><td>29.69911764705884 </td><td>0.5230078563411893</td><td>0.3815937149270483</td><td>260318.5491679275 </td><td>32.20420796857465</td><td>       </td><td>          </td><td>      </td></tr>\n",
       "<tr><td>maxs   </td><td>891.0            </td><td>1.0               </td><td>3.0               </td><td>NaN                                                </td><td>      </td><td>80.0              </td><td>8.0               </td><td>6.0               </td><td>3101298.0         </td><td>512.3292         </td><td>       </td><td>          </td><td>      </td></tr>\n",
       "<tr><td>sigma  </td><td>257.3538420152301</td><td>0.4865924542648575</td><td>0.8360712409770491</td><td>NaN                                                </td><td>      </td><td>14.526497332334035</td><td>1.1027434322934315</td><td>0.8060572211299488</td><td>471609.26868834975</td><td>49.69342859718089</td><td>       </td><td>          </td><td>      </td></tr>\n",
       "<tr><td>zeros  </td><td>0                </td><td>549               </td><td>0                 </td><td>0                                                  </td><td>      </td><td>0                 </td><td>608               </td><td>678               </td><td>0                 </td><td>15               </td><td>       </td><td>          </td><td>      </td></tr>\n",
       "<tr><td>missing</td><td>0                </td><td>0                 </td><td>0                 </td><td>0                                                  </td><td>0     </td><td>177               </td><td>0                 </td><td>0                 </td><td>230               </td><td>0                </td><td>687    </td><td>2         </td><td>687   </td></tr>\n",
       "<tr><td>0      </td><td>1.0              </td><td>0.0               </td><td>3.0               </td><td>Braund, Mr. Owen Harris                            </td><td>male  </td><td>22.0              </td><td>1.0               </td><td>0.0               </td><td>nan               </td><td>7.25             </td><td>       </td><td>S         </td><td>      </td></tr>\n",
       "<tr><td>1      </td><td>2.0              </td><td>1.0               </td><td>1.0               </td><td>Cumings, Mrs. John Bradley (Florence Briggs Thayer)</td><td>female</td><td>38.0              </td><td>1.0               </td><td>0.0               </td><td>nan               </td><td>71.2833          </td><td>C85    </td><td>C         </td><td>C     </td></tr>\n",
       "<tr><td>2      </td><td>3.0              </td><td>1.0               </td><td>3.0               </td><td>Heikkinen, Miss. Laina                             </td><td>female</td><td>26.0              </td><td>0.0               </td><td>0.0               </td><td>nan               </td><td>7.925            </td><td>       </td><td>S         </td><td>      </td></tr>\n",
       "<tr><td>3      </td><td>4.0              </td><td>1.0               </td><td>1.0               </td><td>Futrelle, Mrs. Jacques Heath (Lily May Peel)       </td><td>female</td><td>35.0              </td><td>1.0               </td><td>0.0               </td><td>113803.0          </td><td>53.1             </td><td>C123   </td><td>S         </td><td>C     </td></tr>\n",
       "<tr><td>4      </td><td>5.0              </td><td>0.0               </td><td>3.0               </td><td>Allen, Mr. William Henry                           </td><td>male  </td><td>35.0              </td><td>0.0               </td><td>0.0               </td><td>373450.0          </td><td>8.05             </td><td>       </td><td>S         </td><td>      </td></tr>\n",
       "<tr><td>5      </td><td>6.0              </td><td>0.0               </td><td>3.0               </td><td>Moran, Mr. James                                   </td><td>male  </td><td>nan               </td><td>0.0               </td><td>0.0               </td><td>330877.0          </td><td>8.4583           </td><td>       </td><td>Q         </td><td>      </td></tr>\n",
       "<tr><td>6      </td><td>7.0              </td><td>0.0               </td><td>1.0               </td><td>McCarthy, Mr. Timothy J                            </td><td>male  </td><td>54.0              </td><td>0.0               </td><td>0.0               </td><td>17463.0           </td><td>51.8625          </td><td>E46    </td><td>S         </td><td>E     </td></tr>\n",
       "<tr><td>7      </td><td>8.0              </td><td>0.0               </td><td>3.0               </td><td>Palsson, Master. Gosta Leonard                     </td><td>male  </td><td>2.0               </td><td>3.0               </td><td>1.0               </td><td>349909.0          </td><td>21.075           </td><td>       </td><td>S         </td><td>      </td></tr>\n",
       "<tr><td>8      </td><td>9.0              </td><td>1.0               </td><td>3.0               </td><td>Johnson, Mrs. Oscar W (Elisabeth Vilhelmina Berg)  </td><td>female</td><td>27.0              </td><td>0.0               </td><td>2.0               </td><td>347742.0          </td><td>11.1333          </td><td>       </td><td>S         </td><td>      </td></tr>\n",
       "<tr><td>9      </td><td>10.0             </td><td>1.0               </td><td>2.0               </td><td>Nasser, Mrs. Nicholas (Adele Achem)                </td><td>female</td><td>14.0              </td><td>1.0               </td><td>0.0               </td><td>237736.0          </td><td>30.0708          </td><td>       </td><td>C         </td><td>      </td></tr>\n",
       "</tbody>\n",
       "</table>"
      ]
     },
     "metadata": {},
     "output_type": "display_data"
    }
   ],
   "source": [
    "df[\"Deck\"] = df[\"Cabin\"].strsplit(\"([0-9]*)\")[0]\n",
    "df.describe()"
   ]
  },
  {
   "cell_type": "markdown",
   "metadata": {},
   "source": [
    "Next, we will calculate the missing age of passengers. I am going to replace the missing values with the mean value along with a group by column Pclass."
   ]
  },
  {
   "cell_type": "code",
   "execution_count": 5,
   "metadata": {},
   "outputs": [
    {
     "name": "stdout",
     "output_type": "stream",
     "text": [
      "Rows:891\n",
      "Cols:13\n",
      "\n",
      "\n"
     ]
    },
    {
     "data": {
      "text/html": [
       "<table>\n",
       "<thead>\n",
       "<tr><th>       </th><th>PassengerId      </th><th>Survived          </th><th>Pclass            </th><th>Name                                               </th><th>Sex   </th><th>Age               </th><th>SibSp             </th><th>Parch             </th><th>Ticket            </th><th>Fare             </th><th>Cabin  </th><th>Embarked  </th><th>Deck  </th></tr>\n",
       "</thead>\n",
       "<tbody>\n",
       "<tr><td>type   </td><td>int              </td><td>int               </td><td>int               </td><td>string                                             </td><td>enum  </td><td>real              </td><td>int               </td><td>int               </td><td>int               </td><td>real             </td><td>enum   </td><td>enum      </td><td>enum  </td></tr>\n",
       "<tr><td>mins   </td><td>1.0              </td><td>0.0               </td><td>1.0               </td><td>NaN                                                </td><td>      </td><td>0.42              </td><td>0.0               </td><td>0.0               </td><td>693.0             </td><td>0.0              </td><td>       </td><td>          </td><td>      </td></tr>\n",
       "<tr><td>mean   </td><td>446.0            </td><td>0.3838383838383838</td><td>2.3086419753086447</td><td>NaN                                                </td><td>      </td><td>29.292874790272105</td><td>0.5230078563411893</td><td>0.3815937149270483</td><td>260318.5491679275 </td><td>32.20420796857465</td><td>       </td><td>          </td><td>      </td></tr>\n",
       "<tr><td>maxs   </td><td>891.0            </td><td>1.0               </td><td>3.0               </td><td>NaN                                                </td><td>      </td><td>80.0              </td><td>8.0               </td><td>6.0               </td><td>3101298.0         </td><td>512.3292         </td><td>       </td><td>          </td><td>      </td></tr>\n",
       "<tr><td>sigma  </td><td>257.3538420152301</td><td>0.4865924542648575</td><td>0.8360712409770491</td><td>NaN                                                </td><td>      </td><td>13.210527334401528</td><td>1.1027434322934315</td><td>0.8060572211299488</td><td>471609.26868834975</td><td>49.69342859718089</td><td>       </td><td>          </td><td>      </td></tr>\n",
       "<tr><td>zeros  </td><td>0                </td><td>549               </td><td>0                 </td><td>0                                                  </td><td>      </td><td>0                 </td><td>608               </td><td>678               </td><td>0                 </td><td>15               </td><td>       </td><td>          </td><td>      </td></tr>\n",
       "<tr><td>missing</td><td>0                </td><td>0                 </td><td>0                 </td><td>0                                                  </td><td>0     </td><td>0                 </td><td>0                 </td><td>0                 </td><td>230               </td><td>0                </td><td>687    </td><td>2         </td><td>687   </td></tr>\n",
       "<tr><td>0      </td><td>1.0              </td><td>0.0               </td><td>3.0               </td><td>Braund, Mr. Owen Harris                            </td><td>male  </td><td>22.0              </td><td>1.0               </td><td>0.0               </td><td>nan               </td><td>7.25             </td><td>       </td><td>S         </td><td>      </td></tr>\n",
       "<tr><td>1      </td><td>2.0              </td><td>1.0               </td><td>1.0               </td><td>Cumings, Mrs. John Bradley (Florence Briggs Thayer)</td><td>female</td><td>38.0              </td><td>1.0               </td><td>0.0               </td><td>nan               </td><td>71.2833          </td><td>C85    </td><td>C         </td><td>C     </td></tr>\n",
       "<tr><td>2      </td><td>3.0              </td><td>1.0               </td><td>3.0               </td><td>Heikkinen, Miss. Laina                             </td><td>female</td><td>26.0              </td><td>0.0               </td><td>0.0               </td><td>nan               </td><td>7.925            </td><td>       </td><td>S         </td><td>      </td></tr>\n",
       "<tr><td>3      </td><td>4.0              </td><td>1.0               </td><td>1.0               </td><td>Futrelle, Mrs. Jacques Heath (Lily May Peel)       </td><td>female</td><td>35.0              </td><td>1.0               </td><td>0.0               </td><td>113803.0          </td><td>53.1             </td><td>C123   </td><td>S         </td><td>C     </td></tr>\n",
       "<tr><td>4      </td><td>5.0              </td><td>0.0               </td><td>3.0               </td><td>Allen, Mr. William Henry                           </td><td>male  </td><td>35.0              </td><td>0.0               </td><td>0.0               </td><td>373450.0          </td><td>8.05             </td><td>       </td><td>S         </td><td>      </td></tr>\n",
       "<tr><td>5      </td><td>6.0              </td><td>0.0               </td><td>3.0               </td><td>Moran, Mr. James                                   </td><td>male  </td><td>25.14061971830986 </td><td>0.0               </td><td>0.0               </td><td>330877.0          </td><td>8.4583           </td><td>       </td><td>Q         </td><td>      </td></tr>\n",
       "<tr><td>6      </td><td>7.0              </td><td>0.0               </td><td>1.0               </td><td>McCarthy, Mr. Timothy J                            </td><td>male  </td><td>54.0              </td><td>0.0               </td><td>0.0               </td><td>17463.0           </td><td>51.8625          </td><td>E46    </td><td>S         </td><td>E     </td></tr>\n",
       "<tr><td>7      </td><td>8.0              </td><td>0.0               </td><td>3.0               </td><td>Palsson, Master. Gosta Leonard                     </td><td>male  </td><td>2.0               </td><td>3.0               </td><td>1.0               </td><td>349909.0          </td><td>21.075           </td><td>       </td><td>S         </td><td>      </td></tr>\n",
       "<tr><td>8      </td><td>9.0              </td><td>1.0               </td><td>3.0               </td><td>Johnson, Mrs. Oscar W (Elisabeth Vilhelmina Berg)  </td><td>female</td><td>27.0              </td><td>0.0               </td><td>2.0               </td><td>347742.0          </td><td>11.1333          </td><td>       </td><td>S         </td><td>      </td></tr>\n",
       "<tr><td>9      </td><td>10.0             </td><td>1.0               </td><td>2.0               </td><td>Nasser, Mrs. Nicholas (Adele Achem)                </td><td>female</td><td>14.0              </td><td>1.0               </td><td>0.0               </td><td>237736.0          </td><td>30.0708          </td><td>       </td><td>C         </td><td>      </td></tr>\n",
       "</tbody>\n",
       "</table>"
      ]
     },
     "metadata": {},
     "output_type": "display_data"
    }
   ],
   "source": [
    "df.impute(\"Age\", method=\"mean\", by=[\"Pclass\"])\n",
    "df.describe()"
   ]
  },
  {
   "cell_type": "markdown",
   "metadata": {},
   "source": [
    "Since the Embarked column has only 2 missing values, we will just replace the missing rows with the most common value."
   ]
  },
  {
   "cell_type": "code",
   "execution_count": 6,
   "metadata": {},
   "outputs": [
    {
     "name": "stdout",
     "output_type": "stream",
     "text": [
      "Rows:891\n",
      "Cols:13\n",
      "\n",
      "\n"
     ]
    },
    {
     "data": {
      "text/html": [
       "<table>\n",
       "<thead>\n",
       "<tr><th>       </th><th>PassengerId      </th><th>Survived          </th><th>Pclass            </th><th>Name                                               </th><th>Sex   </th><th>Age               </th><th>SibSp             </th><th>Parch             </th><th>Ticket            </th><th>Fare             </th><th>Cabin  </th><th>Embarked  </th><th>Deck  </th></tr>\n",
       "</thead>\n",
       "<tbody>\n",
       "<tr><td>type   </td><td>int              </td><td>int               </td><td>int               </td><td>string                                             </td><td>enum  </td><td>real              </td><td>int               </td><td>int               </td><td>int               </td><td>real             </td><td>enum   </td><td>enum      </td><td>enum  </td></tr>\n",
       "<tr><td>mins   </td><td>1.0              </td><td>0.0               </td><td>1.0               </td><td>NaN                                                </td><td>      </td><td>0.42              </td><td>0.0               </td><td>0.0               </td><td>693.0             </td><td>0.0              </td><td>       </td><td>          </td><td>      </td></tr>\n",
       "<tr><td>mean   </td><td>446.0            </td><td>0.3838383838383838</td><td>2.3086419753086447</td><td>NaN                                                </td><td>      </td><td>29.292874790272105</td><td>0.5230078563411893</td><td>0.3815937149270483</td><td>260318.5491679275 </td><td>32.20420796857465</td><td>       </td><td>          </td><td>      </td></tr>\n",
       "<tr><td>maxs   </td><td>891.0            </td><td>1.0               </td><td>3.0               </td><td>NaN                                                </td><td>      </td><td>80.0              </td><td>8.0               </td><td>6.0               </td><td>3101298.0         </td><td>512.3292         </td><td>       </td><td>          </td><td>      </td></tr>\n",
       "<tr><td>sigma  </td><td>257.3538420152301</td><td>0.4865924542648575</td><td>0.8360712409770491</td><td>NaN                                                </td><td>      </td><td>13.210527334401528</td><td>1.1027434322934315</td><td>0.8060572211299488</td><td>471609.26868834975</td><td>49.69342859718089</td><td>       </td><td>          </td><td>      </td></tr>\n",
       "<tr><td>zeros  </td><td>0                </td><td>549               </td><td>0                 </td><td>0                                                  </td><td>      </td><td>0                 </td><td>608               </td><td>678               </td><td>0                 </td><td>15               </td><td>       </td><td>          </td><td>      </td></tr>\n",
       "<tr><td>missing</td><td>0                </td><td>0                 </td><td>0                 </td><td>0                                                  </td><td>0     </td><td>0                 </td><td>0                 </td><td>0                 </td><td>230               </td><td>0                </td><td>687    </td><td>0         </td><td>687   </td></tr>\n",
       "<tr><td>0      </td><td>1.0              </td><td>0.0               </td><td>3.0               </td><td>Braund, Mr. Owen Harris                            </td><td>male  </td><td>22.0              </td><td>1.0               </td><td>0.0               </td><td>nan               </td><td>7.25             </td><td>       </td><td>S         </td><td>      </td></tr>\n",
       "<tr><td>1      </td><td>2.0              </td><td>1.0               </td><td>1.0               </td><td>Cumings, Mrs. John Bradley (Florence Briggs Thayer)</td><td>female</td><td>38.0              </td><td>1.0               </td><td>0.0               </td><td>nan               </td><td>71.2833          </td><td>C85    </td><td>C         </td><td>C     </td></tr>\n",
       "<tr><td>2      </td><td>3.0              </td><td>1.0               </td><td>3.0               </td><td>Heikkinen, Miss. Laina                             </td><td>female</td><td>26.0              </td><td>0.0               </td><td>0.0               </td><td>nan               </td><td>7.925            </td><td>       </td><td>S         </td><td>      </td></tr>\n",
       "<tr><td>3      </td><td>4.0              </td><td>1.0               </td><td>1.0               </td><td>Futrelle, Mrs. Jacques Heath (Lily May Peel)       </td><td>female</td><td>35.0              </td><td>1.0               </td><td>0.0               </td><td>113803.0          </td><td>53.1             </td><td>C123   </td><td>S         </td><td>C     </td></tr>\n",
       "<tr><td>4      </td><td>5.0              </td><td>0.0               </td><td>3.0               </td><td>Allen, Mr. William Henry                           </td><td>male  </td><td>35.0              </td><td>0.0               </td><td>0.0               </td><td>373450.0          </td><td>8.05             </td><td>       </td><td>S         </td><td>      </td></tr>\n",
       "<tr><td>5      </td><td>6.0              </td><td>0.0               </td><td>3.0               </td><td>Moran, Mr. James                                   </td><td>male  </td><td>25.14061971830986 </td><td>0.0               </td><td>0.0               </td><td>330877.0          </td><td>8.4583           </td><td>       </td><td>Q         </td><td>      </td></tr>\n",
       "<tr><td>6      </td><td>7.0              </td><td>0.0               </td><td>1.0               </td><td>McCarthy, Mr. Timothy J                            </td><td>male  </td><td>54.0              </td><td>0.0               </td><td>0.0               </td><td>17463.0           </td><td>51.8625          </td><td>E46    </td><td>S         </td><td>E     </td></tr>\n",
       "<tr><td>7      </td><td>8.0              </td><td>0.0               </td><td>3.0               </td><td>Palsson, Master. Gosta Leonard                     </td><td>male  </td><td>2.0               </td><td>3.0               </td><td>1.0               </td><td>349909.0          </td><td>21.075           </td><td>       </td><td>S         </td><td>      </td></tr>\n",
       "<tr><td>8      </td><td>9.0              </td><td>1.0               </td><td>3.0               </td><td>Johnson, Mrs. Oscar W (Elisabeth Vilhelmina Berg)  </td><td>female</td><td>27.0              </td><td>0.0               </td><td>2.0               </td><td>347742.0          </td><td>11.1333          </td><td>       </td><td>S         </td><td>      </td></tr>\n",
       "<tr><td>9      </td><td>10.0             </td><td>1.0               </td><td>2.0               </td><td>Nasser, Mrs. Nicholas (Adele Achem)                </td><td>female</td><td>14.0              </td><td>1.0               </td><td>0.0               </td><td>237736.0          </td><td>30.0708          </td><td>       </td><td>C         </td><td>      </td></tr>\n",
       "</tbody>\n",
       "</table>"
      ]
     },
     "metadata": {},
     "output_type": "display_data"
    }
   ],
   "source": [
    "df.impute(\"Embarked\", method=\"mode\")\n",
    "df.describe()"
   ]
  },
  {
   "cell_type": "markdown",
   "metadata": {},
   "source": [
    "Next, I am going to add some more new features by combining values from the existing features."
   ]
  },
  {
   "cell_type": "markdown",
   "metadata": {},
   "source": [
    "#### AgePclass"
   ]
  },
  {
   "cell_type": "code",
   "execution_count": 8,
   "metadata": {},
   "outputs": [],
   "source": [
    "df[\"AgePclass\"] = df[\"Age\"]*df[\"Pclass\"]"
   ]
  },
  {
   "cell_type": "markdown",
   "metadata": {},
   "source": [
    "#### NoOfFamilyMembers"
   ]
  },
  {
   "cell_type": "code",
   "execution_count": 9,
   "metadata": {},
   "outputs": [],
   "source": [
    "df[\"NoOfFamilyMembers\"] = (df[\"Parch\"]*df[\"SibSp\"])"
   ]
  },
  {
   "cell_type": "markdown",
   "metadata": {},
   "source": [
    "#### IsAlone"
   ]
  },
  {
   "cell_type": "code",
   "execution_count": 10,
   "metadata": {},
   "outputs": [],
   "source": [
    "df[\"IsAlone\"] = df[\"NoOfFamilyMembers\"]/df[\"NoOfFamilyMembers\"]\n",
    "df[df[\"IsAlone\"].isna(), \"IsAlone\"] = 0"
   ]
  },
  {
   "cell_type": "markdown",
   "metadata": {},
   "source": [
    "#### FarePerPerson"
   ]
  },
  {
   "cell_type": "code",
   "execution_count": 11,
   "metadata": {},
   "outputs": [],
   "source": [
    "df[\"FarePerPerson\"] = df[\"Fare\"]/(df[\"NoOfFamilyMembers\"]+1)"
   ]
  },
  {
   "cell_type": "markdown",
   "metadata": {},
   "source": [
    "Now I am going to update the missing values of the Deck feature with a new value. First, let's see what all alphabets are currently used in this field."
   ]
  },
  {
   "cell_type": "code",
   "execution_count": 12,
   "metadata": {},
   "outputs": [
    {
     "data": {
      "text/html": [
       "<table>\n",
       "<thead>\n",
       "<tr><th>Deck  </th><th style=\"text-align: right;\">  Count</th></tr>\n",
       "</thead>\n",
       "<tbody>\n",
       "<tr><td>A     </td><td style=\"text-align: right;\">     15</td></tr>\n",
       "<tr><td>B     </td><td style=\"text-align: right;\">     47</td></tr>\n",
       "<tr><td>C     </td><td style=\"text-align: right;\">     59</td></tr>\n",
       "<tr><td>D     </td><td style=\"text-align: right;\">     33</td></tr>\n",
       "<tr><td>T     </td><td style=\"text-align: right;\">      1</td></tr>\n",
       "<tr><td>E     </td><td style=\"text-align: right;\">     32</td></tr>\n",
       "<tr><td>F     </td><td style=\"text-align: right;\">     13</td></tr>\n",
       "<tr><td>G     </td><td style=\"text-align: right;\">      4</td></tr>\n",
       "</tbody>\n",
       "</table>"
      ]
     },
     "metadata": {},
     "output_type": "display_data"
    },
    {
     "data": {
      "text/plain": []
     },
     "execution_count": 12,
     "metadata": {},
     "output_type": "execute_result"
    }
   ],
   "source": [
    " df[\"Deck\"].table()"
   ]
  },
  {
   "cell_type": "markdown",
   "metadata": {},
   "source": [
    "We'll update empty Deck values with \"Z\"."
   ]
  },
  {
   "cell_type": "code",
   "execution_count": 13,
   "metadata": {},
   "outputs": [],
   "source": [
    "df[\"Deck\"] = df[\"Deck\"].ascharacter()\n",
    "df[df[\"Deck\"].isna(), \"Deck\"] = \"Z\""
   ]
  },
  {
   "cell_type": "markdown",
   "metadata": {},
   "source": [
    "For classification, the Survived column should be encoded as categorical (aka. \"factor\" or \"enum\"). Let's take a look."
   ]
  },
  {
   "cell_type": "code",
   "execution_count": 17,
   "metadata": {
    "scrolled": true
   },
   "outputs": [
    {
     "name": "stdout",
     "output_type": "stream",
     "text": [
      "Rows:891\n",
      "Cols:17\n",
      "\n",
      "\n"
     ]
    },
    {
     "data": {
      "text/html": [
       "<table>\n",
       "<thead>\n",
       "<tr><th>       </th><th>PassengerId      </th><th>Survived  </th><th>Pclass  </th><th>Name                                               </th><th>Sex   </th><th>Age               </th><th>SibSp             </th><th>Parch             </th><th>Ticket            </th><th>Fare             </th><th>Cabin  </th><th>Embarked  </th><th>Deck  </th><th>AgePclass         </th><th>NoOfFamilyMembers  </th><th>IsAlone  </th><th>FarePerPerson     </th></tr>\n",
       "</thead>\n",
       "<tbody>\n",
       "<tr><td>type   </td><td>int              </td><td>enum      </td><td>enum    </td><td>string                                             </td><td>enum  </td><td>real              </td><td>int               </td><td>int               </td><td>int               </td><td>real             </td><td>enum   </td><td>enum      </td><td>enum  </td><td>real              </td><td>int                </td><td>enum     </td><td>real              </td></tr>\n",
       "<tr><td>mins   </td><td>1.0              </td><td>          </td><td>        </td><td>NaN                                                </td><td>      </td><td>0.42              </td><td>0.0               </td><td>0.0               </td><td>693.0             </td><td>0.0              </td><td>       </td><td>          </td><td>      </td><td>0.92              </td><td>0.0                </td><td>         </td><td>0.0               </td></tr>\n",
       "<tr><td>mean   </td><td>446.0            </td><td>          </td><td>        </td><td>NaN                                                </td><td>      </td><td>29.292874790272105</td><td>0.5230078563411893</td><td>0.3815937149270483</td><td>260318.5491679275 </td><td>32.20420796857465</td><td>       </td><td>          </td><td>      </td><td>63.17118286436423 </td><td>0.5679012345679009 </td><td>         </td><td>26.545188724601847</td></tr>\n",
       "<tr><td>maxs   </td><td>891.0            </td><td>          </td><td>        </td><td>NaN                                                </td><td>      </td><td>80.0              </td><td>8.0               </td><td>6.0               </td><td>3101298.0         </td><td>512.3292         </td><td>       </td><td>          </td><td>      </td><td>222.0             </td><td>16.0               </td><td>         </td><td>512.3292          </td></tr>\n",
       "<tr><td>sigma  </td><td>257.3538420152301</td><td>          </td><td>        </td><td>NaN                                                </td><td>      </td><td>13.210527334401528</td><td>1.1027434322934315</td><td>0.8060572211299488</td><td>471609.26868834975</td><td>49.69342859718089</td><td>       </td><td>          </td><td>      </td><td>31.498476922565953</td><td>1.9792865515522966 </td><td>         </td><td>44.63917637309987 </td></tr>\n",
       "<tr><td>zeros  </td><td>0                </td><td>          </td><td>        </td><td>0                                                  </td><td>      </td><td>0                 </td><td>608               </td><td>678               </td><td>0                 </td><td>15               </td><td>       </td><td>          </td><td>      </td><td>0                 </td><td>749                </td><td>         </td><td>15                </td></tr>\n",
       "<tr><td>missing</td><td>0                </td><td>0         </td><td>0       </td><td>0                                                  </td><td>0     </td><td>0                 </td><td>0                 </td><td>0                 </td><td>230               </td><td>0                </td><td>687    </td><td>0         </td><td>0     </td><td>0                 </td><td>0                  </td><td>0        </td><td>0                 </td></tr>\n",
       "<tr><td>0      </td><td>1.0              </td><td>0         </td><td>3       </td><td>Braund, Mr. Owen Harris                            </td><td>male  </td><td>22.0              </td><td>1.0               </td><td>0.0               </td><td>nan               </td><td>7.25             </td><td>       </td><td>S         </td><td>Z     </td><td>66.0              </td><td>0.0                </td><td>0        </td><td>7.25              </td></tr>\n",
       "<tr><td>1      </td><td>2.0              </td><td>1         </td><td>1       </td><td>Cumings, Mrs. John Bradley (Florence Briggs Thayer)</td><td>female</td><td>38.0              </td><td>1.0               </td><td>0.0               </td><td>nan               </td><td>71.2833          </td><td>C85    </td><td>C         </td><td>C     </td><td>38.0              </td><td>0.0                </td><td>0        </td><td>71.2833           </td></tr>\n",
       "<tr><td>2      </td><td>3.0              </td><td>1         </td><td>3       </td><td>Heikkinen, Miss. Laina                             </td><td>female</td><td>26.0              </td><td>0.0               </td><td>0.0               </td><td>nan               </td><td>7.925            </td><td>       </td><td>S         </td><td>Z     </td><td>78.0              </td><td>0.0                </td><td>0        </td><td>7.925             </td></tr>\n",
       "<tr><td>3      </td><td>4.0              </td><td>1         </td><td>1       </td><td>Futrelle, Mrs. Jacques Heath (Lily May Peel)       </td><td>female</td><td>35.0              </td><td>1.0               </td><td>0.0               </td><td>113803.0          </td><td>53.1             </td><td>C123   </td><td>S         </td><td>C     </td><td>35.0              </td><td>0.0                </td><td>0        </td><td>53.1              </td></tr>\n",
       "<tr><td>4      </td><td>5.0              </td><td>0         </td><td>3       </td><td>Allen, Mr. William Henry                           </td><td>male  </td><td>35.0              </td><td>0.0               </td><td>0.0               </td><td>373450.0          </td><td>8.05             </td><td>       </td><td>S         </td><td>Z     </td><td>105.0             </td><td>0.0                </td><td>0        </td><td>8.05              </td></tr>\n",
       "<tr><td>5      </td><td>6.0              </td><td>0         </td><td>3       </td><td>Moran, Mr. James                                   </td><td>male  </td><td>25.14061971830986 </td><td>0.0               </td><td>0.0               </td><td>330877.0          </td><td>8.4583           </td><td>       </td><td>Q         </td><td>Z     </td><td>75.42185915492958 </td><td>0.0                </td><td>0        </td><td>8.4583            </td></tr>\n",
       "<tr><td>6      </td><td>7.0              </td><td>0         </td><td>1       </td><td>McCarthy, Mr. Timothy J                            </td><td>male  </td><td>54.0              </td><td>0.0               </td><td>0.0               </td><td>17463.0           </td><td>51.8625          </td><td>E46    </td><td>S         </td><td>E     </td><td>54.0              </td><td>0.0                </td><td>0        </td><td>51.8625           </td></tr>\n",
       "<tr><td>7      </td><td>8.0              </td><td>0         </td><td>3       </td><td>Palsson, Master. Gosta Leonard                     </td><td>male  </td><td>2.0               </td><td>3.0               </td><td>1.0               </td><td>349909.0          </td><td>21.075           </td><td>       </td><td>S         </td><td>Z     </td><td>6.0               </td><td>3.0                </td><td>1        </td><td>5.26875           </td></tr>\n",
       "<tr><td>8      </td><td>9.0              </td><td>1         </td><td>3       </td><td>Johnson, Mrs. Oscar W (Elisabeth Vilhelmina Berg)  </td><td>female</td><td>27.0              </td><td>0.0               </td><td>2.0               </td><td>347742.0          </td><td>11.1333          </td><td>       </td><td>S         </td><td>Z     </td><td>81.0              </td><td>0.0                </td><td>0        </td><td>11.1333           </td></tr>\n",
       "<tr><td>9      </td><td>10.0             </td><td>1         </td><td>2       </td><td>Nasser, Mrs. Nicholas (Adele Achem)                </td><td>female</td><td>14.0              </td><td>1.0               </td><td>0.0               </td><td>237736.0          </td><td>30.0708          </td><td>       </td><td>C         </td><td>Z     </td><td>28.0              </td><td>0.0                </td><td>0        </td><td>30.0708           </td></tr>\n",
       "</tbody>\n",
       "</table>"
      ]
     },
     "metadata": {},
     "output_type": "display_data"
    }
   ],
   "source": [
    "df.describe()"
   ]
  },
  {
   "cell_type": "markdown",
   "metadata": {},
   "source": [
    "By default that cell got processed as an integer. Pclass, Deck and IsAlone should also be enum as it represents the socio-economic status of passengers. We need to convert these into an enum. We can do that by just executing the following line,"
   ]
  },
  {
   "cell_type": "code",
   "execution_count": 18,
   "metadata": {},
   "outputs": [],
   "source": [
    "df[\"Survived\"]= df[\"Survived\"].asfactor()\n",
    "df[\"Pclass\"]= df[\"Pclass\"].asfactor()\n",
    "df[\"IsAlone\"]= df[\"IsAlone\"].asfactor()\n",
    "df[\"Deck\"] = df[\"Deck\"].asfactor()"
   ]
  },
  {
   "cell_type": "markdown",
   "metadata": {},
   "source": [
    "Now let's see what happend."
   ]
  },
  {
   "cell_type": "code",
   "execution_count": 19,
   "metadata": {},
   "outputs": [
    {
     "name": "stdout",
     "output_type": "stream",
     "text": [
      "Rows:891\n",
      "Cols:17\n",
      "\n",
      "\n"
     ]
    },
    {
     "data": {
      "text/html": [
       "<table>\n",
       "<thead>\n",
       "<tr><th>       </th><th>PassengerId      </th><th>Survived  </th><th>Pclass  </th><th>Name                                               </th><th>Sex   </th><th>Age               </th><th>SibSp             </th><th>Parch             </th><th>Ticket            </th><th>Fare             </th><th>Cabin  </th><th>Embarked  </th><th>Deck  </th><th>AgePclass         </th><th>NoOfFamilyMembers  </th><th>IsAlone  </th><th>FarePerPerson     </th></tr>\n",
       "</thead>\n",
       "<tbody>\n",
       "<tr><td>type   </td><td>int              </td><td>enum      </td><td>enum    </td><td>string                                             </td><td>enum  </td><td>real              </td><td>int               </td><td>int               </td><td>int               </td><td>real             </td><td>enum   </td><td>enum      </td><td>enum  </td><td>real              </td><td>int                </td><td>enum     </td><td>real              </td></tr>\n",
       "<tr><td>mins   </td><td>1.0              </td><td>          </td><td>        </td><td>NaN                                                </td><td>      </td><td>0.42              </td><td>0.0               </td><td>0.0               </td><td>693.0             </td><td>0.0              </td><td>       </td><td>          </td><td>      </td><td>0.92              </td><td>0.0                </td><td>         </td><td>0.0               </td></tr>\n",
       "<tr><td>mean   </td><td>446.0            </td><td>          </td><td>        </td><td>NaN                                                </td><td>      </td><td>29.292874790272105</td><td>0.5230078563411893</td><td>0.3815937149270483</td><td>260318.5491679275 </td><td>32.20420796857465</td><td>       </td><td>          </td><td>      </td><td>63.17118286436423 </td><td>0.5679012345679009 </td><td>         </td><td>26.545188724601847</td></tr>\n",
       "<tr><td>maxs   </td><td>891.0            </td><td>          </td><td>        </td><td>NaN                                                </td><td>      </td><td>80.0              </td><td>8.0               </td><td>6.0               </td><td>3101298.0         </td><td>512.3292         </td><td>       </td><td>          </td><td>      </td><td>222.0             </td><td>16.0               </td><td>         </td><td>512.3292          </td></tr>\n",
       "<tr><td>sigma  </td><td>257.3538420152301</td><td>          </td><td>        </td><td>NaN                                                </td><td>      </td><td>13.210527334401528</td><td>1.1027434322934315</td><td>0.8060572211299488</td><td>471609.26868834975</td><td>49.69342859718089</td><td>       </td><td>          </td><td>      </td><td>31.498476922565953</td><td>1.9792865515522966 </td><td>         </td><td>44.63917637309987 </td></tr>\n",
       "<tr><td>zeros  </td><td>0                </td><td>          </td><td>        </td><td>0                                                  </td><td>      </td><td>0                 </td><td>608               </td><td>678               </td><td>0                 </td><td>15               </td><td>       </td><td>          </td><td>      </td><td>0                 </td><td>749                </td><td>         </td><td>15                </td></tr>\n",
       "<tr><td>missing</td><td>0                </td><td>0         </td><td>0       </td><td>0                                                  </td><td>0     </td><td>0                 </td><td>0                 </td><td>0                 </td><td>230               </td><td>0                </td><td>687    </td><td>0         </td><td>0     </td><td>0                 </td><td>0                  </td><td>0        </td><td>0                 </td></tr>\n",
       "<tr><td>0      </td><td>1.0              </td><td>0         </td><td>3       </td><td>Braund, Mr. Owen Harris                            </td><td>male  </td><td>22.0              </td><td>1.0               </td><td>0.0               </td><td>nan               </td><td>7.25             </td><td>       </td><td>S         </td><td>Z     </td><td>66.0              </td><td>0.0                </td><td>0        </td><td>7.25              </td></tr>\n",
       "<tr><td>1      </td><td>2.0              </td><td>1         </td><td>1       </td><td>Cumings, Mrs. John Bradley (Florence Briggs Thayer)</td><td>female</td><td>38.0              </td><td>1.0               </td><td>0.0               </td><td>nan               </td><td>71.2833          </td><td>C85    </td><td>C         </td><td>C     </td><td>38.0              </td><td>0.0                </td><td>0        </td><td>71.2833           </td></tr>\n",
       "<tr><td>2      </td><td>3.0              </td><td>1         </td><td>3       </td><td>Heikkinen, Miss. Laina                             </td><td>female</td><td>26.0              </td><td>0.0               </td><td>0.0               </td><td>nan               </td><td>7.925            </td><td>       </td><td>S         </td><td>Z     </td><td>78.0              </td><td>0.0                </td><td>0        </td><td>7.925             </td></tr>\n",
       "<tr><td>3      </td><td>4.0              </td><td>1         </td><td>1       </td><td>Futrelle, Mrs. Jacques Heath (Lily May Peel)       </td><td>female</td><td>35.0              </td><td>1.0               </td><td>0.0               </td><td>113803.0          </td><td>53.1             </td><td>C123   </td><td>S         </td><td>C     </td><td>35.0              </td><td>0.0                </td><td>0        </td><td>53.1              </td></tr>\n",
       "<tr><td>4      </td><td>5.0              </td><td>0         </td><td>3       </td><td>Allen, Mr. William Henry                           </td><td>male  </td><td>35.0              </td><td>0.0               </td><td>0.0               </td><td>373450.0          </td><td>8.05             </td><td>       </td><td>S         </td><td>Z     </td><td>105.0             </td><td>0.0                </td><td>0        </td><td>8.05              </td></tr>\n",
       "<tr><td>5      </td><td>6.0              </td><td>0         </td><td>3       </td><td>Moran, Mr. James                                   </td><td>male  </td><td>25.14061971830986 </td><td>0.0               </td><td>0.0               </td><td>330877.0          </td><td>8.4583           </td><td>       </td><td>Q         </td><td>Z     </td><td>75.42185915492958 </td><td>0.0                </td><td>0        </td><td>8.4583            </td></tr>\n",
       "<tr><td>6      </td><td>7.0              </td><td>0         </td><td>1       </td><td>McCarthy, Mr. Timothy J                            </td><td>male  </td><td>54.0              </td><td>0.0               </td><td>0.0               </td><td>17463.0           </td><td>51.8625          </td><td>E46    </td><td>S         </td><td>E     </td><td>54.0              </td><td>0.0                </td><td>0        </td><td>51.8625           </td></tr>\n",
       "<tr><td>7      </td><td>8.0              </td><td>0         </td><td>3       </td><td>Palsson, Master. Gosta Leonard                     </td><td>male  </td><td>2.0               </td><td>3.0               </td><td>1.0               </td><td>349909.0          </td><td>21.075           </td><td>       </td><td>S         </td><td>Z     </td><td>6.0               </td><td>3.0                </td><td>1        </td><td>5.26875           </td></tr>\n",
       "<tr><td>8      </td><td>9.0              </td><td>1         </td><td>3       </td><td>Johnson, Mrs. Oscar W (Elisabeth Vilhelmina Berg)  </td><td>female</td><td>27.0              </td><td>0.0               </td><td>2.0               </td><td>347742.0          </td><td>11.1333          </td><td>       </td><td>S         </td><td>Z     </td><td>81.0              </td><td>0.0                </td><td>0        </td><td>11.1333           </td></tr>\n",
       "<tr><td>9      </td><td>10.0             </td><td>1         </td><td>2       </td><td>Nasser, Mrs. Nicholas (Adele Achem)                </td><td>female</td><td>14.0              </td><td>1.0               </td><td>0.0               </td><td>237736.0          </td><td>30.0708          </td><td>       </td><td>C         </td><td>Z     </td><td>28.0              </td><td>0.0                </td><td>0        </td><td>30.0708           </td></tr>\n",
       "</tbody>\n",
       "</table>"
      ]
     },
     "metadata": {},
     "output_type": "display_data"
    }
   ],
   "source": [
    "df.describe()"
   ]
  },
  {
   "cell_type": "markdown",
   "metadata": {},
   "source": [
    "As you can see the data type of Survived and Pclass columns are now enum. Let's leave all the categorical features to be auto handled by H20."
   ]
  },
  {
   "cell_type": "markdown",
   "metadata": {},
   "source": [
    "### Generate x and Y values"
   ]
  },
  {
   "cell_type": "markdown",
   "metadata": {},
   "source": [
    "Now, let's identify the response & predictor columns by saving them as x and y. The PassengerId, Name and Ticket columns are unique identifiers so we'll remove those from the set of our predictors along with the Cabin feature."
   ]
  },
  {
   "cell_type": "code",
   "execution_count": 20,
   "metadata": {},
   "outputs": [],
   "source": [
    "y = \"Survived\"\n",
    "x = df.columns\n",
    "x.remove(y)\n",
    "x.remove(\"PassengerId\")\n",
    "x.remove(\"Name\")\n",
    "x.remove(\"Ticket\")\n",
    "x.remove(\"Cabin\")"
   ]
  },
  {
   "cell_type": "markdown",
   "metadata": {},
   "source": [
    "## Run AutoML"
   ]
  },
  {
   "cell_type": "markdown",
   "metadata": {},
   "source": [
    "Run AutoML, stopping after 15 models. The max_models argument specifies the number of individual (or \"base\") models and does not include the two ensemble models that are trained at the end. We set a seed value for reproducibility. H2O Deep Learning models are not reproducible by default for performance reasons, so for reproducibility, we are adding \"DeepLearning\" to exclude_algos parameter. The exploitation_ratio parameter is for specifying the budget ratio (between 0 and 1) dedicated to the exploitation (vs exploration) phase. By default, the exploitation phase is disabled (exploitation_ratio=0) as this is still experimental; to activate it, it is recommended to try a ratio around 0.1. Learn more about exploitation and exploration from [here](https://www.manifold.ai/exploration-vs-exploitation-in-reinforcement-learning)."
   ]
  },
  {
   "cell_type": "code",
   "execution_count": 21,
   "metadata": {},
   "outputs": [
    {
     "name": "stdout",
     "output_type": "stream",
     "text": [
      "AutoML progress: |█\n",
      "17:34:22.242: AutoML: XGBoost is not available; skipping it.\n",
      "\n",
      "███████████████████████████████████████████████████████| 100%\n"
     ]
    }
   ],
   "source": [
    "aml = H2OAutoML(max_models = 15, seed = 1, nfolds=15, exclude_algos = [\"DeepLearning\"], exploitation_ratio = 0.15)\n",
    "aml.train(x = x, y = y, training_frame = df)"
   ]
  },
  {
   "cell_type": "markdown",
   "metadata": {},
   "source": [
    "## Leaderboard"
   ]
  },
  {
   "cell_type": "markdown",
   "metadata": {},
   "source": [
    "Next, we will view the AutoML Leaderboard. Since we did not specify a leaderboard_frame in the H2OAutoML.train() method for scoring and ranking the models, the AutoML leaderboard uses cross-validation metrics to rank the models.\n",
    "\n",
    "A default performance metric for each machine learning task (binary classification, multiclass classification, regression) is specified internally and the leaderboard will be sorted by that metric. In the case of binary classification, the default ranking metric is Area Under the ROC Curve (AUC). In the future, the user will be able to specify any of the H2O metrics so that different metrics can be used to generate rankings on the leaderboard.\n",
    "\n",
    "The leader model is stored at aml.leader and the leaderboard is stored at aml.leaderboard."
   ]
  },
  {
   "cell_type": "code",
   "execution_count": 22,
   "metadata": {},
   "outputs": [],
   "source": [
    "lb = aml.leaderboard"
   ]
  },
  {
   "cell_type": "markdown",
   "metadata": {},
   "source": [
    "Now we will view a snapshot of the top models. Here we should see the two Stacked Ensembles at or near the top of the leaderboard. Stacked Ensembles can almost always outperform a single model."
   ]
  },
  {
   "cell_type": "code",
   "execution_count": 23,
   "metadata": {},
   "outputs": [
    {
     "data": {
      "text/html": [
       "<table>\n",
       "<thead>\n",
       "<tr><th>model_id                                           </th><th style=\"text-align: right;\">     auc</th><th style=\"text-align: right;\">  logloss</th><th style=\"text-align: right;\">   aucpr</th><th style=\"text-align: right;\">  mean_per_class_error</th><th style=\"text-align: right;\">    rmse</th><th style=\"text-align: right;\">     mse</th></tr>\n",
       "</thead>\n",
       "<tbody>\n",
       "<tr><td>GBM_2_AutoML_20210405_173422                       </td><td style=\"text-align: right;\">0.876117</td><td style=\"text-align: right;\"> 0.406868</td><td style=\"text-align: right;\">0.857066</td><td style=\"text-align: right;\">              0.178219</td><td style=\"text-align: right;\">0.354391</td><td style=\"text-align: right;\">0.125593</td></tr>\n",
       "<tr><td>StackedEnsemble_AllModels_AutoML_20210405_173422   </td><td style=\"text-align: right;\">0.875771</td><td style=\"text-align: right;\"> 0.40771 </td><td style=\"text-align: right;\">0.855449</td><td style=\"text-align: right;\">              0.174624</td><td style=\"text-align: right;\">0.354071</td><td style=\"text-align: right;\">0.125366</td></tr>\n",
       "<tr><td>StackedEnsemble_BestOfFamily_AutoML_20210405_173422</td><td style=\"text-align: right;\">0.875337</td><td style=\"text-align: right;\"> 0.405848</td><td style=\"text-align: right;\">0.852315</td><td style=\"text-align: right;\">              0.178434</td><td style=\"text-align: right;\">0.353587</td><td style=\"text-align: right;\">0.125024</td></tr>\n",
       "<tr><td>GBM_grid__1_AutoML_20210405_173422_model_3         </td><td style=\"text-align: right;\">0.871681</td><td style=\"text-align: right;\"> 0.420932</td><td style=\"text-align: right;\">0.847572</td><td style=\"text-align: right;\">              0.188165</td><td style=\"text-align: right;\">0.362799</td><td style=\"text-align: right;\">0.131623</td></tr>\n",
       "<tr><td>GBM_4_AutoML_20210405_173422                       </td><td style=\"text-align: right;\">0.871231</td><td style=\"text-align: right;\"> 0.416213</td><td style=\"text-align: right;\">0.852867</td><td style=\"text-align: right;\">              0.172874</td><td style=\"text-align: right;\">0.356901</td><td style=\"text-align: right;\">0.127378</td></tr>\n",
       "<tr><td>GBM_3_AutoML_20210405_173422                       </td><td style=\"text-align: right;\">0.871044</td><td style=\"text-align: right;\"> 0.411429</td><td style=\"text-align: right;\">0.852986</td><td style=\"text-align: right;\">              0.173929</td><td style=\"text-align: right;\">0.356137</td><td style=\"text-align: right;\">0.126834</td></tr>\n",
       "<tr><td>DRF_1_AutoML_20210405_173422                       </td><td style=\"text-align: right;\">0.870954</td><td style=\"text-align: right;\"> 0.471875</td><td style=\"text-align: right;\">0.835348</td><td style=\"text-align: right;\">              0.174839</td><td style=\"text-align: right;\">0.363062</td><td style=\"text-align: right;\">0.131814</td></tr>\n",
       "<tr><td>GBM_grid__1_AutoML_20210405_173422_model_6         </td><td style=\"text-align: right;\">0.869516</td><td style=\"text-align: right;\"> 0.460762</td><td style=\"text-align: right;\">0.843318</td><td style=\"text-align: right;\">              0.191808</td><td style=\"text-align: right;\">0.373499</td><td style=\"text-align: right;\">0.139502</td></tr>\n",
       "<tr><td>GBM_grid__1_AutoML_20210405_173422_model_2         </td><td style=\"text-align: right;\">0.868682</td><td style=\"text-align: right;\"> 0.412404</td><td style=\"text-align: right;\">0.85504 </td><td style=\"text-align: right;\">              0.187997</td><td style=\"text-align: right;\">0.357784</td><td style=\"text-align: right;\">0.12801 </td></tr>\n",
       "<tr><td>GBM_1_AutoML_20210405_173422                       </td><td style=\"text-align: right;\">0.868378</td><td style=\"text-align: right;\"> 0.421288</td><td style=\"text-align: right;\">0.848769</td><td style=\"text-align: right;\">              0.171556</td><td style=\"text-align: right;\">0.360635</td><td style=\"text-align: right;\">0.130058</td></tr>\n",
       "</tbody>\n",
       "</table>"
      ]
     },
     "metadata": {},
     "output_type": "display_data"
    },
    {
     "data": {
      "text/plain": []
     },
     "execution_count": 23,
     "metadata": {},
     "output_type": "execute_result"
    }
   ],
   "source": [
    "lb.head()"
   ]
  },
  {
   "cell_type": "markdown",
   "metadata": {},
   "source": [
    "To view the entire leaderboard, specify the `rows` argument of the `head()` method as the total number of rows:"
   ]
  },
  {
   "cell_type": "code",
   "execution_count": 24,
   "metadata": {},
   "outputs": [
    {
     "data": {
      "text/html": [
       "<table>\n",
       "<thead>\n",
       "<tr><th>model_id                                           </th><th style=\"text-align: right;\">     auc</th><th style=\"text-align: right;\">  logloss</th><th style=\"text-align: right;\">   aucpr</th><th style=\"text-align: right;\">  mean_per_class_error</th><th style=\"text-align: right;\">    rmse</th><th style=\"text-align: right;\">     mse</th></tr>\n",
       "</thead>\n",
       "<tbody>\n",
       "<tr><td>GBM_2_AutoML_20210405_173422                       </td><td style=\"text-align: right;\">0.876117</td><td style=\"text-align: right;\"> 0.406868</td><td style=\"text-align: right;\">0.857066</td><td style=\"text-align: right;\">              0.178219</td><td style=\"text-align: right;\">0.354391</td><td style=\"text-align: right;\">0.125593</td></tr>\n",
       "<tr><td>StackedEnsemble_AllModels_AutoML_20210405_173422   </td><td style=\"text-align: right;\">0.875771</td><td style=\"text-align: right;\"> 0.40771 </td><td style=\"text-align: right;\">0.855449</td><td style=\"text-align: right;\">              0.174624</td><td style=\"text-align: right;\">0.354071</td><td style=\"text-align: right;\">0.125366</td></tr>\n",
       "<tr><td>StackedEnsemble_BestOfFamily_AutoML_20210405_173422</td><td style=\"text-align: right;\">0.875337</td><td style=\"text-align: right;\"> 0.405848</td><td style=\"text-align: right;\">0.852315</td><td style=\"text-align: right;\">              0.178434</td><td style=\"text-align: right;\">0.353587</td><td style=\"text-align: right;\">0.125024</td></tr>\n",
       "<tr><td>GBM_grid__1_AutoML_20210405_173422_model_3         </td><td style=\"text-align: right;\">0.871681</td><td style=\"text-align: right;\"> 0.420932</td><td style=\"text-align: right;\">0.847572</td><td style=\"text-align: right;\">              0.188165</td><td style=\"text-align: right;\">0.362799</td><td style=\"text-align: right;\">0.131623</td></tr>\n",
       "<tr><td>GBM_4_AutoML_20210405_173422                       </td><td style=\"text-align: right;\">0.871231</td><td style=\"text-align: right;\"> 0.416213</td><td style=\"text-align: right;\">0.852867</td><td style=\"text-align: right;\">              0.172874</td><td style=\"text-align: right;\">0.356901</td><td style=\"text-align: right;\">0.127378</td></tr>\n",
       "<tr><td>GBM_3_AutoML_20210405_173422                       </td><td style=\"text-align: right;\">0.871044</td><td style=\"text-align: right;\"> 0.411429</td><td style=\"text-align: right;\">0.852986</td><td style=\"text-align: right;\">              0.173929</td><td style=\"text-align: right;\">0.356137</td><td style=\"text-align: right;\">0.126834</td></tr>\n",
       "<tr><td>DRF_1_AutoML_20210405_173422                       </td><td style=\"text-align: right;\">0.870954</td><td style=\"text-align: right;\"> 0.471875</td><td style=\"text-align: right;\">0.835348</td><td style=\"text-align: right;\">              0.174839</td><td style=\"text-align: right;\">0.363062</td><td style=\"text-align: right;\">0.131814</td></tr>\n",
       "<tr><td>GBM_grid__1_AutoML_20210405_173422_model_6         </td><td style=\"text-align: right;\">0.869516</td><td style=\"text-align: right;\"> 0.460762</td><td style=\"text-align: right;\">0.843318</td><td style=\"text-align: right;\">              0.191808</td><td style=\"text-align: right;\">0.373499</td><td style=\"text-align: right;\">0.139502</td></tr>\n",
       "<tr><td>GBM_grid__1_AutoML_20210405_173422_model_2         </td><td style=\"text-align: right;\">0.868682</td><td style=\"text-align: right;\"> 0.412404</td><td style=\"text-align: right;\">0.85504 </td><td style=\"text-align: right;\">              0.187997</td><td style=\"text-align: right;\">0.357784</td><td style=\"text-align: right;\">0.12801 </td></tr>\n",
       "<tr><td>GBM_1_AutoML_20210405_173422                       </td><td style=\"text-align: right;\">0.868378</td><td style=\"text-align: right;\"> 0.421288</td><td style=\"text-align: right;\">0.848769</td><td style=\"text-align: right;\">              0.171556</td><td style=\"text-align: right;\">0.360635</td><td style=\"text-align: right;\">0.130058</td></tr>\n",
       "<tr><td>GBM_grid__1_AutoML_20210405_173422_model_4         </td><td style=\"text-align: right;\">0.867398</td><td style=\"text-align: right;\"> 0.432804</td><td style=\"text-align: right;\">0.843982</td><td style=\"text-align: right;\">              0.195187</td><td style=\"text-align: right;\">0.368007</td><td style=\"text-align: right;\">0.135429</td></tr>\n",
       "<tr><td>GBM_grid__1_AutoML_20210405_173422_model_5         </td><td style=\"text-align: right;\">0.867151</td><td style=\"text-align: right;\"> 0.418324</td><td style=\"text-align: right;\">0.849888</td><td style=\"text-align: right;\">              0.165732</td><td style=\"text-align: right;\">0.354813</td><td style=\"text-align: right;\">0.125892</td></tr>\n",
       "<tr><td>XRT_1_AutoML_20210405_173422                       </td><td style=\"text-align: right;\">0.864637</td><td style=\"text-align: right;\"> 0.438892</td><td style=\"text-align: right;\">0.834533</td><td style=\"text-align: right;\">              0.18306 </td><td style=\"text-align: right;\">0.372122</td><td style=\"text-align: right;\">0.138475</td></tr>\n",
       "<tr><td>GBM_grid__1_AutoML_20210405_173422_model_1         </td><td style=\"text-align: right;\">0.863867</td><td style=\"text-align: right;\"> 0.475881</td><td style=\"text-align: right;\">0.828301</td><td style=\"text-align: right;\">              0.186871</td><td style=\"text-align: right;\">0.374516</td><td style=\"text-align: right;\">0.140262</td></tr>\n",
       "<tr><td>GBM_5_AutoML_20210405_173422                       </td><td style=\"text-align: right;\">0.859987</td><td style=\"text-align: right;\"> 0.435374</td><td style=\"text-align: right;\">0.835221</td><td style=\"text-align: right;\">              0.199094</td><td style=\"text-align: right;\">0.370209</td><td style=\"text-align: right;\">0.137055</td></tr>\n",
       "<tr><td>GLM_1_AutoML_20210405_173422                       </td><td style=\"text-align: right;\">0.852574</td><td style=\"text-align: right;\"> 0.44767 </td><td style=\"text-align: right;\">0.829721</td><td style=\"text-align: right;\">              0.203744</td><td style=\"text-align: right;\">0.37653 </td><td style=\"text-align: right;\">0.141775</td></tr>\n",
       "<tr><td>GBM_grid__1_AutoML_20210405_173422_model_7         </td><td style=\"text-align: right;\">0.850401</td><td style=\"text-align: right;\"> 0.463847</td><td style=\"text-align: right;\">0.81912 </td><td style=\"text-align: right;\">              0.22203 </td><td style=\"text-align: right;\">0.385372</td><td style=\"text-align: right;\">0.148511</td></tr>\n",
       "</tbody>\n",
       "</table>"
      ]
     },
     "metadata": {},
     "output_type": "display_data"
    },
    {
     "data": {
      "text/plain": []
     },
     "execution_count": 24,
     "metadata": {},
     "output_type": "execute_result"
    }
   ],
   "source": [
    "lb.head(rows=lb.nrows)"
   ]
  },
  {
   "cell_type": "markdown",
   "metadata": {},
   "source": [
    "As we can see the leader in this example is [GBM](https://towardsdatascience.com/understanding-gradient-boosting-machines-9be756fe76ab) which stands for Gradient Boosting Machines with an AUC value of 0.876117. \n",
    "\n",
    "AUC ranges in value from 0 to 1. A model whose predictions are 100% wrong has an AUC of 0.0; one whose predictions are 100% correct has an AUC of 1.0. Learn more about AUC from [here](https://developers.google.com/machine-learning/crash-course/classification/roc-and-auc).\n",
    "\n",
    "You can google and see what all are other values and how they affect the accuracy of our model."
   ]
  },
  {
   "cell_type": "markdown",
   "metadata": {},
   "source": [
    "## Save Leader Model"
   ]
  },
  {
   "cell_type": "markdown",
   "metadata": {},
   "source": [
    "There are two ways to save the leader model -- binary format and MOJO format. If you're taking your leader model to production, then I'd suggest the MOJO format since it's optimized for production use."
   ]
  },
  {
   "cell_type": "code",
   "execution_count": 25,
   "metadata": {},
   "outputs": [
    {
     "data": {
      "text/plain": [
       "'F:\\\\Projects\\\\nidhinradh.me\\\\Code\\\\Titanic\\\\out\\\\titanic_survivability_model_bin\\\\GBM_2_AutoML_20210405_173422'"
      ]
     },
     "execution_count": 25,
     "metadata": {},
     "output_type": "execute_result"
    }
   ],
   "source": [
    "h2o.save_model(aml.leader, path = \"./out/titanic_survivability_model_bin\")"
   ]
  },
  {
   "cell_type": "code",
   "execution_count": 26,
   "metadata": {},
   "outputs": [
    {
     "data": {
      "text/plain": [
       "'F:\\\\Projects\\\\nidhinradh.me\\\\Code\\\\Titanic\\\\out\\\\titanic_survivability_model_mojo\\\\mojo_out.zip'"
      ]
     },
     "execution_count": 26,
     "metadata": {},
     "output_type": "execute_result"
    }
   ],
   "source": [
    "import os\n",
    "mojo_out_folder = \"./out/titanic_survivability_model_mojo/\"\n",
    "mojo_file_name = \"mojo_out.zip\"\n",
    "try:\n",
    "    os.remove(mojo_out_folder + mojo_file_name)\n",
    "except OSError:\n",
    "    pass\n",
    "os.makedirs(mojo_out_folder, exist_ok=True)\n",
    "from zipfile import ZipFile\n",
    "with ZipFile(mojo_out_folder + mojo_file_name, 'w') as file:\n",
    "    pass\n",
    "aml.leader.download_mojo(path = mojo_out_folder + mojo_file_name)"
   ]
  },
  {
   "cell_type": "markdown",
   "metadata": {},
   "source": [
    "## Prediction"
   ]
  },
  {
   "cell_type": "code",
   "execution_count": null,
   "metadata": {},
   "outputs": [],
   "source": [
    "In this step we will load the test.csv file to H2O and predict the survivability of each passenger."
   ]
  },
  {
   "cell_type": "code",
   "execution_count": 33,
   "metadata": {},
   "outputs": [
    {
     "name": "stdout",
     "output_type": "stream",
     "text": [
      "Parse progress: |█████████████████████████████████████████████████████████| 100%\n"
     ]
    }
   ],
   "source": [
    "# Use local data file\n",
    "test_data_path = \"./data/test.csv\"\n",
    "\n",
    "# Load data into H2O\n",
    "test_df = h2o.import_file(test_data_path)"
   ]
  },
  {
   "cell_type": "code",
   "execution_count": 34,
   "metadata": {},
   "outputs": [
    {
     "name": "stdout",
     "output_type": "stream",
     "text": [
      "Rows:418\n",
      "Cols:11\n",
      "\n",
      "\n"
     ]
    },
    {
     "data": {
      "text/html": [
       "<table>\n",
       "<thead>\n",
       "<tr><th>       </th><th>PassengerId       </th><th>Pclass            </th><th>Name                                        </th><th>Sex   </th><th>Age               </th><th>SibSp              </th><th>Parch              </th><th>Ticket            </th><th>Fare              </th><th>Cabin  </th><th>Embarked  </th></tr>\n",
       "</thead>\n",
       "<tbody>\n",
       "<tr><td>type   </td><td>int               </td><td>int               </td><td>string                                      </td><td>enum  </td><td>real              </td><td>int                </td><td>int                </td><td>int               </td><td>real              </td><td>enum   </td><td>enum      </td></tr>\n",
       "<tr><td>mins   </td><td>892.0             </td><td>1.0               </td><td>NaN                                         </td><td>      </td><td>0.17              </td><td>0.0                </td><td>0.0                </td><td>680.0             </td><td>0.0               </td><td>       </td><td>          </td></tr>\n",
       "<tr><td>mean   </td><td>1100.5            </td><td>2.2655502392344493</td><td>NaN                                         </td><td>      </td><td>30.272590361445786</td><td>0.44736842105263147</td><td>0.39234449760765555</td><td>223850.98986486494</td><td>35.627188489208656</td><td>       </td><td>          </td></tr>\n",
       "<tr><td>maxs   </td><td>1309.0            </td><td>3.0               </td><td>NaN                                         </td><td>      </td><td>76.0              </td><td>8.0                </td><td>9.0                </td><td>3101298.0         </td><td>512.3292          </td><td>       </td><td>          </td></tr>\n",
       "<tr><td>sigma  </td><td>120.81045760473994</td><td>0.8418375519640504</td><td>NaN                                         </td><td>      </td><td>14.181209235624422</td><td>0.8967595611217135 </td><td>0.9814288785371694 </td><td>369523.7764694362 </td><td>55.907576179973844</td><td>       </td><td>          </td></tr>\n",
       "<tr><td>zeros  </td><td>0                 </td><td>0                 </td><td>0                                           </td><td>      </td><td>0                 </td><td>283                </td><td>324                </td><td>0                 </td><td>2                 </td><td>       </td><td>          </td></tr>\n",
       "<tr><td>missing</td><td>0                 </td><td>0                 </td><td>0                                           </td><td>0     </td><td>86                </td><td>0                  </td><td>0                  </td><td>122               </td><td>1                 </td><td>327    </td><td>0         </td></tr>\n",
       "<tr><td>0      </td><td>892.0             </td><td>3.0               </td><td>Kelly, Mr. James                            </td><td>male  </td><td>34.5              </td><td>0.0                </td><td>0.0                </td><td>330911.0          </td><td>7.8292            </td><td>       </td><td>Q         </td></tr>\n",
       "<tr><td>1      </td><td>893.0             </td><td>3.0               </td><td>Wilkes, Mrs. James (Ellen Needs)            </td><td>female</td><td>47.0              </td><td>1.0                </td><td>0.0                </td><td>363272.0          </td><td>7.0               </td><td>       </td><td>S         </td></tr>\n",
       "<tr><td>2      </td><td>894.0             </td><td>2.0               </td><td>Myles, Mr. Thomas Francis                   </td><td>male  </td><td>62.0              </td><td>0.0                </td><td>0.0                </td><td>240276.0          </td><td>9.6875            </td><td>       </td><td>Q         </td></tr>\n",
       "<tr><td>3      </td><td>895.0             </td><td>3.0               </td><td>Wirz, Mr. Albert                            </td><td>male  </td><td>27.0              </td><td>0.0                </td><td>0.0                </td><td>315154.0          </td><td>8.6625            </td><td>       </td><td>S         </td></tr>\n",
       "<tr><td>4      </td><td>896.0             </td><td>3.0               </td><td>Hirvonen, Mrs. Alexander (Helga E Lindqvist)</td><td>female</td><td>22.0              </td><td>1.0                </td><td>1.0                </td><td>3101298.0         </td><td>12.2875           </td><td>       </td><td>S         </td></tr>\n",
       "<tr><td>5      </td><td>897.0             </td><td>3.0               </td><td>Svensson, Mr. Johan Cervin                  </td><td>male  </td><td>14.0              </td><td>0.0                </td><td>0.0                </td><td>7538.0            </td><td>9.225             </td><td>       </td><td>S         </td></tr>\n",
       "<tr><td>6      </td><td>898.0             </td><td>3.0               </td><td>Connolly, Miss. Kate                        </td><td>female</td><td>30.0              </td><td>0.0                </td><td>0.0                </td><td>330972.0          </td><td>7.6292            </td><td>       </td><td>Q         </td></tr>\n",
       "<tr><td>7      </td><td>899.0             </td><td>2.0               </td><td>Caldwell, Mr. Albert Francis                </td><td>male  </td><td>26.0              </td><td>1.0                </td><td>1.0                </td><td>248738.0          </td><td>29.0              </td><td>       </td><td>S         </td></tr>\n",
       "<tr><td>8      </td><td>900.0             </td><td>3.0               </td><td>Abrahim, Mrs. Joseph (Sophie Halaut Easu)   </td><td>female</td><td>18.0              </td><td>0.0                </td><td>0.0                </td><td>2657.0            </td><td>7.2292            </td><td>       </td><td>C         </td></tr>\n",
       "<tr><td>9      </td><td>901.0             </td><td>3.0               </td><td>Davies, Mr. John Samuel                     </td><td>male  </td><td>21.0              </td><td>2.0                </td><td>0.0                </td><td>nan               </td><td>24.15             </td><td>       </td><td>S         </td></tr>\n",
       "</tbody>\n",
       "</table>"
      ]
     },
     "metadata": {},
     "output_type": "display_data"
    }
   ],
   "source": [
    "test_df.describe()"
   ]
  },
  {
   "cell_type": "markdown",
   "metadata": {},
   "source": [
    "We'll add the newly created features and convert Pclass as we did for the training dataset. You can also see that a row is missing the value for the fare. I am going to update the missing value with mean along with a group by column Pclass."
   ]
  },
  {
   "cell_type": "code",
   "execution_count": 37,
   "metadata": {},
   "outputs": [
    {
     "name": "stdout",
     "output_type": "stream",
     "text": [
      "Rows:418\n",
      "Cols:16\n",
      "\n",
      "\n"
     ]
    },
    {
     "data": {
      "text/html": [
       "<table>\n",
       "<thead>\n",
       "<tr><th>       </th><th>PassengerId       </th><th>Pclass  </th><th>Name                                        </th><th>Sex   </th><th>Age               </th><th>SibSp              </th><th>Parch              </th><th>Ticket            </th><th>Fare              </th><th>Cabin  </th><th>Embarked  </th><th>Deck  </th><th>AgePclass        </th><th>NoOfFamilyMembers  </th><th>IsAlone            </th><th>FarePerPerson     </th></tr>\n",
       "</thead>\n",
       "<tbody>\n",
       "<tr><td>type   </td><td>int               </td><td>enum    </td><td>string                                      </td><td>enum  </td><td>real              </td><td>int                </td><td>int                </td><td>int               </td><td>real              </td><td>enum   </td><td>enum      </td><td>enum  </td><td>real             </td><td>int                </td><td>int                </td><td>real              </td></tr>\n",
       "<tr><td>mins   </td><td>892.0             </td><td>        </td><td>NaN                                         </td><td>      </td><td>0.17              </td><td>0.0                </td><td>0.0                </td><td>680.0             </td><td>0.0               </td><td>       </td><td>          </td><td>      </td><td>0.51             </td><td>0.0                </td><td>0.0                </td><td>0.0               </td></tr>\n",
       "<tr><td>mean   </td><td>1100.5            </td><td>        </td><td>NaN                                         </td><td>      </td><td>30.272590361445786</td><td>0.44736842105263147</td><td>0.39234449760765555</td><td>223850.98986486494</td><td>35.571763822679856</td><td>       </td><td>          </td><td>      </td><td>59.03337349397588</td><td>0.4449760765550237 </td><td>0.15311004784688995</td><td>28.825602374336853</td></tr>\n",
       "<tr><td>maxs   </td><td>1309.0            </td><td>        </td><td>NaN                                         </td><td>      </td><td>76.0              </td><td>8.0                </td><td>9.0                </td><td>3101298.0         </td><td>512.3292          </td><td>       </td><td>          </td><td>      </td><td>181.5            </td><td>16.0               </td><td>1.0                </td><td>512.3292          </td></tr>\n",
       "<tr><td>sigma  </td><td>120.81045760473994</td><td>        </td><td>NaN                                         </td><td>      </td><td>14.181209235624422</td><td>0.8967595611217135 </td><td>0.9814288785371694 </td><td>369523.7764694362 </td><td>55.85199678933088 </td><td>       </td><td>          </td><td>      </td><td>29.04879625409189</td><td>1.6687524955824409 </td><td>0.3605250532203249 </td><td>46.70526282058175 </td></tr>\n",
       "<tr><td>zeros  </td><td>0                 </td><td>        </td><td>0                                           </td><td>      </td><td>0                 </td><td>283                </td><td>324                </td><td>0                 </td><td>2                 </td><td>       </td><td>          </td><td>      </td><td>0                </td><td>354                </td><td>354                </td><td>2                 </td></tr>\n",
       "<tr><td>missing</td><td>0                 </td><td>0       </td><td>0                                           </td><td>0     </td><td>86                </td><td>0                  </td><td>0                  </td><td>122               </td><td>0                 </td><td>327    </td><td>0         </td><td>327   </td><td>86               </td><td>0                  </td><td>0                  </td><td>1                 </td></tr>\n",
       "<tr><td>0      </td><td>892.0             </td><td>3       </td><td>Kelly, Mr. James                            </td><td>male  </td><td>34.5              </td><td>0.0                </td><td>0.0                </td><td>330911.0          </td><td>7.8292            </td><td>       </td><td>Q         </td><td>      </td><td>103.5            </td><td>0.0                </td><td>0.0                </td><td>7.8292            </td></tr>\n",
       "<tr><td>1      </td><td>893.0             </td><td>3       </td><td>Wilkes, Mrs. James (Ellen Needs)            </td><td>female</td><td>47.0              </td><td>1.0                </td><td>0.0                </td><td>363272.0          </td><td>7.0               </td><td>       </td><td>S         </td><td>      </td><td>141.0            </td><td>0.0                </td><td>0.0                </td><td>7.0               </td></tr>\n",
       "<tr><td>2      </td><td>894.0             </td><td>2       </td><td>Myles, Mr. Thomas Francis                   </td><td>male  </td><td>62.0              </td><td>0.0                </td><td>0.0                </td><td>240276.0          </td><td>9.6875            </td><td>       </td><td>Q         </td><td>      </td><td>124.0            </td><td>0.0                </td><td>0.0                </td><td>9.6875            </td></tr>\n",
       "<tr><td>3      </td><td>895.0             </td><td>3       </td><td>Wirz, Mr. Albert                            </td><td>male  </td><td>27.0              </td><td>0.0                </td><td>0.0                </td><td>315154.0          </td><td>8.6625            </td><td>       </td><td>S         </td><td>      </td><td>81.0             </td><td>0.0                </td><td>0.0                </td><td>8.6625            </td></tr>\n",
       "<tr><td>4      </td><td>896.0             </td><td>3       </td><td>Hirvonen, Mrs. Alexander (Helga E Lindqvist)</td><td>female</td><td>22.0              </td><td>1.0                </td><td>1.0                </td><td>3101298.0         </td><td>12.2875           </td><td>       </td><td>S         </td><td>      </td><td>66.0             </td><td>1.0                </td><td>1.0                </td><td>6.14375           </td></tr>\n",
       "<tr><td>5      </td><td>897.0             </td><td>3       </td><td>Svensson, Mr. Johan Cervin                  </td><td>male  </td><td>14.0              </td><td>0.0                </td><td>0.0                </td><td>7538.0            </td><td>9.225             </td><td>       </td><td>S         </td><td>      </td><td>42.0             </td><td>0.0                </td><td>0.0                </td><td>9.225             </td></tr>\n",
       "<tr><td>6      </td><td>898.0             </td><td>3       </td><td>Connolly, Miss. Kate                        </td><td>female</td><td>30.0              </td><td>0.0                </td><td>0.0                </td><td>330972.0          </td><td>7.6292            </td><td>       </td><td>Q         </td><td>      </td><td>90.0             </td><td>0.0                </td><td>0.0                </td><td>7.6292            </td></tr>\n",
       "<tr><td>7      </td><td>899.0             </td><td>2       </td><td>Caldwell, Mr. Albert Francis                </td><td>male  </td><td>26.0              </td><td>1.0                </td><td>1.0                </td><td>248738.0          </td><td>29.0              </td><td>       </td><td>S         </td><td>      </td><td>52.0             </td><td>1.0                </td><td>1.0                </td><td>14.5              </td></tr>\n",
       "<tr><td>8      </td><td>900.0             </td><td>3       </td><td>Abrahim, Mrs. Joseph (Sophie Halaut Easu)   </td><td>female</td><td>18.0              </td><td>0.0                </td><td>0.0                </td><td>2657.0            </td><td>7.2292            </td><td>       </td><td>C         </td><td>      </td><td>54.0             </td><td>0.0                </td><td>0.0                </td><td>7.2292            </td></tr>\n",
       "<tr><td>9      </td><td>901.0             </td><td>3       </td><td>Davies, Mr. John Samuel                     </td><td>male  </td><td>21.0              </td><td>2.0                </td><td>0.0                </td><td>nan               </td><td>24.15             </td><td>       </td><td>S         </td><td>      </td><td>63.0             </td><td>0.0                </td><td>0.0                </td><td>24.15             </td></tr>\n",
       "</tbody>\n",
       "</table>"
      ]
     },
     "metadata": {},
     "output_type": "display_data"
    }
   ],
   "source": [
    "test_df[\"Deck\"] = test_df[\"Cabin\"].strsplit(\"([0-9]*)\")[0]\n",
    "test_df[\"AgePclass\"] = test_df[\"Age\"]*test_df[\"Pclass\"]\n",
    "test_df[\"NoOfFamilyMembers\"] = (test_df[\"Parch\"]*test_df[\"SibSp\"])\n",
    "test_df[\"IsAlone\"] = test_df[\"NoOfFamilyMembers\"]/test_df[\"NoOfFamilyMembers\"]\n",
    "test_df[test_df[\"IsAlone\"].isna(), \"IsAlone\"] = 0\n",
    "test_df[\"FarePerPerson\"] = test_df[\"Fare\"]/(test_df[\"NoOfFamilyMembers\"]+1)\n",
    "\n",
    "test_df[\"Pclass\"]= test_df[\"Pclass\"].asfactor()\n",
    "test_df.impute(\"Fare\", method=\"mean\", by=[\"Pclass\"]) \n",
    "test_df.describe()"
   ]
  },
  {
   "cell_type": "markdown",
   "metadata": {},
   "source": [
    "We will now remove the unique identifier columns from the dataset."
   ]
  },
  {
   "cell_type": "code",
   "execution_count": 38,
   "metadata": {},
   "outputs": [],
   "source": [
    "test_df = test_df[:, [\"Pclass\", \"Sex\", \"Age\", \"SibSp\", \"Parch\", \"Fare\", \"Embarked\", \"Deck\", \"AgePclass\", \"NoOfFamilyMembers\", \"IsAlone\", \"FarePerPerson\"]]"
   ]
  },
  {
   "cell_type": "markdown",
   "metadata": {},
   "source": [
    "Using the predict() function with AutoML generates predictions on the leader model from the run. The order of the rows in the results is the same as the order in which the data was loaded, even if some rows fail (for example, due to missing values or unseen factor levels)."
   ]
  },
  {
   "cell_type": "code",
   "execution_count": 39,
   "metadata": {},
   "outputs": [
    {
     "name": "stdout",
     "output_type": "stream",
     "text": [
      "gbm prediction progress: |████████████████████████████████████████████████| 100%\n"
     ]
    },
    {
     "data": {
      "text/html": [
       "<table>\n",
       "<thead>\n",
       "<tr><th style=\"text-align: right;\">  predict</th><th style=\"text-align: right;\">      p0</th><th style=\"text-align: right;\">       p1</th></tr>\n",
       "</thead>\n",
       "<tbody>\n",
       "<tr><td style=\"text-align: right;\">        0</td><td style=\"text-align: right;\">0.958668</td><td style=\"text-align: right;\">0.0413324</td></tr>\n",
       "<tr><td style=\"text-align: right;\">        0</td><td style=\"text-align: right;\">0.804113</td><td style=\"text-align: right;\">0.195887 </td></tr>\n",
       "<tr><td style=\"text-align: right;\">        0</td><td style=\"text-align: right;\">0.891065</td><td style=\"text-align: right;\">0.108935 </td></tr>\n",
       "<tr><td style=\"text-align: right;\">        0</td><td style=\"text-align: right;\">0.640217</td><td style=\"text-align: right;\">0.359783 </td></tr>\n",
       "<tr><td style=\"text-align: right;\">        0</td><td style=\"text-align: right;\">0.743113</td><td style=\"text-align: right;\">0.256887 </td></tr>\n",
       "<tr><td style=\"text-align: right;\">        0</td><td style=\"text-align: right;\">0.838345</td><td style=\"text-align: right;\">0.161655 </td></tr>\n",
       "<tr><td style=\"text-align: right;\">        1</td><td style=\"text-align: right;\">0.435593</td><td style=\"text-align: right;\">0.564407 </td></tr>\n",
       "<tr><td style=\"text-align: right;\">        0</td><td style=\"text-align: right;\">0.967373</td><td style=\"text-align: right;\">0.0326268</td></tr>\n",
       "<tr><td style=\"text-align: right;\">        1</td><td style=\"text-align: right;\">0.289667</td><td style=\"text-align: right;\">0.710333 </td></tr>\n",
       "<tr><td style=\"text-align: right;\">        0</td><td style=\"text-align: right;\">0.91355 </td><td style=\"text-align: right;\">0.0864501</td></tr>\n",
       "</tbody>\n",
       "</table>"
      ]
     },
     "metadata": {},
     "output_type": "display_data"
    },
    {
     "data": {
      "text/plain": []
     },
     "execution_count": 39,
     "metadata": {},
     "output_type": "execute_result"
    }
   ],
   "source": [
    "# To generate predictions on a test set, you can make predictions\n",
    "# directly on the `\"H2OAutoML\"` object or on the leader model\n",
    "# object directly\n",
    "preds = aml.predict(test_df)\n",
    "\n",
    "# or:\n",
    "# preds = aml.leader.predict(test)\n",
    "preds"
   ]
  },
  {
   "cell_type": "markdown",
   "metadata": {},
   "source": [
    "p0 is the probability (between 0 and 1) that class 0 is chosen and p1 is the probability (between 0 and 1) that class 1 is chosen.\n",
    "\n",
    "You can use this Dataframe for further analysis."
   ]
  },
  {
   "cell_type": "markdown",
   "metadata": {},
   "source": [
    "## Conclusion"
   ]
  },
  {
   "cell_type": "markdown",
   "metadata": {},
   "source": [
    "Hooray! We have covered almost all the portions that you need to know for getting started with AutoML. AutoML is the process of automating the time consuming, iterative tasks of machine learning model development. It allows data scientists, analysts, and developers of any experience level to build ML models with high scale, efficiency, and productivity all while sustaining model quality.\n",
    "We have started with the installation of H2O, then we loaded the data to H20, checked missing data, updated those missing values and created new features. Then we trained the dataset using H2O AutoML with 15 different models and found out that GBM is a good candidate for handling this specific dataset. We also learned how to save this model and to use it for making predictions later.\n",
    "There are many things you can still do to improve this piece of code. You can do more feature engineering, standardize the numerical values, find the correlation between the dependant and independent variables, etc."
   ]
  }
 ],
 "metadata": {
  "kernelspec": {
   "display_name": "Python 3",
   "language": "python",
   "name": "python3"
  },
  "language_info": {
   "codemirror_mode": {
    "name": "ipython",
    "version": 3
   },
   "file_extension": ".py",
   "mimetype": "text/x-python",
   "name": "python",
   "nbconvert_exporter": "python",
   "pygments_lexer": "ipython3",
   "version": "3.6.8"
  }
 },
 "nbformat": 4,
 "nbformat_minor": 4
}
