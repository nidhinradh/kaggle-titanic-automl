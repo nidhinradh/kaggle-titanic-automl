{
 "cells": [
  {
   "cell_type": "markdown",
   "metadata": {},
   "source": [
    "# AutoML for Beginners with H2O\n",
    "### Titanic - Machine Learning from Disaster Challenge | Kaggle"
   ]
  },
  {
   "cell_type": "markdown",
   "metadata": {},
   "source": [
    "This is a Jupyter Notebook. When you execute code within the notebook, the results appear beneath the code. To execute a code chunk, place your cursor on the cell and press Shift+Enter"
   ]
  },
  {
   "cell_type": "markdown",
   "metadata": {},
   "source": [
    "This is the famous **\"Titanic - Machine Learning from Disaster\"** competition from [Kaggle](https://www.kaggle.com/c/titanic/overview). If you are new to Machine Learning this is one of the best, first challenges for you to dive into Machine Learning.\n",
    "The challenge is to use machine learning to create a model that predicts which passengers survived the Titanic shipwreck.\n",
    "We are going to do this by using [H2O AutoML](https://docs.h2o.ai/h2o/latest-stable/h2o-docs/automl.html)."
   ]
  },
  {
   "cell_type": "markdown",
   "metadata": {},
   "source": [
    "[H2O](https://www.h2o.ai) is a fully open-source, distributed in-memory machine learning platform with linear scalability. H2O supports the most widely used statistical & machine learning algorithms including gradient boosted machines, generalized linear models, deep learning and more. H2O also has an industry-leading AutoML functionality that automatically runs through all the algorithms and their hyperparameters to produce a leaderboard of the best models."
   ]
  },
  {
   "cell_type": "markdown",
   "metadata": {},
   "source": [
    "H2O’s AutoML can be used for automating the machine learning workflow, which includes automatic training and tuning of many models within a user-specified time limit."
   ]
  },
  {
   "cell_type": "markdown",
   "metadata": {},
   "source": [
    "H2O has made it easy for non-experts to experiment with machine learning through AutoMl. But, there is still a fair bit of knowledge and background in data science that is required to produce high-performing machine learning models.\n",
    "It is also useful for advanced users. H2O helps them by freeing up their time to focus on other aspects of the data science pipeline tasks such as data-preprocessing, feature engineering and model deployment."
   ]
  },
  {
   "cell_type": "markdown",
   "metadata": {},
   "source": [
    "### RMS Titanic"
   ]
  },
  {
   "cell_type": "markdown",
   "metadata": {},
   "source": [
    "\"RMS Titanic was a British passenger liner operated by the White Star Line that sank in the North Atlantic Ocean on 15 April 1912, after striking an iceberg during her maiden voyage from Southampton to New York City. Of the estimated 2,224 passengers and crew aboard, more than 1,500 died, making the sinking at the time one of the deadliest of a single ship and the deadliest peacetime sinking of a superliner or cruise ship to date.\" -  [Wikipedia](https://en.wikipedia.org/wiki/Titanic)"
   ]
  },
  {
   "cell_type": "markdown",
   "metadata": {},
   "source": [
    "## Prerequisites"
   ]
  },
  {
   "cell_type": "markdown",
   "metadata": {},
   "source": [
    "We are going to do this challenge using H2O in Python. The prerequisites for this is as follows,\n",
    "<ol>\n",
    "    <li>\n",
    "        <p>Operating Systems</p>\n",
    "        <ul>\n",
    "            <li>Windows 7 or later</li>\n",
    "            <li>OS X 10.9 or later</li>\n",
    "            <li>Ubuntu 12.04 or later</li>\n",
    "            <li>RHEL/CentOS 6 or later</li>\n",
    "        </ul>\n",
    "    </li>\n",
    "    <li>\n",
    "        <p>Language</p>\n",
    "        <ul>\n",
    "            <li>Python 2.7.x, 3.5.x, 3.6.x</li>\n",
    "        </ul>\n",
    "    </li>\n",
    "</ol>"
   ]
  },
  {
   "cell_type": "markdown",
   "metadata": {},
   "source": [
    "You need Java installed and JAVA_HOME environment variable set in your system to run H2O.\n",
    "\n",
    "Download and install Java([Amazon Correto](https://aws.amazon.com/corretto/)) from [here](https://docs.aws.amazon.com/corretto/latest/corretto-8-ug/downloads-list.html).\n",
    "\n",
    "The installer will automatically set the JAVA_HOME environment variable for you."
   ]
  },
  {
   "cell_type": "markdown",
   "metadata": {},
   "source": [
    "<em>\n",
    "Amazon Corretto is a no-cost, multiplatform, production-ready distribution of the Open Java Development Kit (OpenJDK). Corretto comes with long-term support that will include performance enhancements and security fixes.\n",
    "</em>"
   ]
  },
  {
   "cell_type": "markdown",
   "metadata": {},
   "source": [
    "You can download Python 3.6 from here: [Windows(exe)](https://www.python.org/ftp/python/3.6.6/python-3.6.6-amd64.exe)/[Linux(source)](https://www.python.org/ftp/python/3.6.6/Python-3.6.6.tgz)"
   ]
  },
  {
   "cell_type": "markdown",
   "metadata": {},
   "source": [
    "## Installing H20"
   ]
  },
  {
   "cell_type": "markdown",
   "metadata": {},
   "source": [
    "First you need to install the dependencies (prepending with `sudo` if needed):"
   ]
  },
  {
   "cell_type": "code",
   "execution_count": null,
   "metadata": {},
   "outputs": [],
   "source": [
    "#Remove ! from each line if you are running the commands from CLI\n",
    "!pip install requests\n",
    "!pip install tabulate\n",
    "!pip install \"colorama>=0.3.8\"\n",
    "!pip install future"
   ]
  },
  {
   "cell_type": "markdown",
   "metadata": {},
   "source": [
    "The following command removes any existing installation of H2O module from Python."
   ]
  },
  {
   "cell_type": "code",
   "execution_count": null,
   "metadata": {},
   "outputs": [],
   "source": [
    "#Remove ! from each line if you are running the commands from CLI\n",
    "!pip uninstall h2o"
   ]
  },
  {
   "cell_type": "markdown",
   "metadata": {},
   "source": [
    "Next, use pip to install this version of the H2O Python module."
   ]
  },
  {
   "cell_type": "code",
   "execution_count": null,
   "metadata": {},
   "outputs": [],
   "source": [
    "#Remove ! from each line if you are running the commands from CLI\n",
    "!pip install http://h2o-release.s3.amazonaws.com/h2o/rel-zipf/1/Python/h2o-3.32.1.1-py2.py3-none-any.whl"
   ]
  },
  {
   "cell_type": "markdown",
   "metadata": {},
   "source": [
    "To install this package with conda, uncomment the second line and run:"
   ]
  },
  {
   "cell_type": "code",
   "execution_count": null,
   "metadata": {},
   "outputs": [],
   "source": [
    "#Remove ! from each line if you are running the commands from CLI\n",
    "#!conda install -c h2oai h2o"
   ]
  },
  {
   "cell_type": "markdown",
   "metadata": {},
   "source": [
    "## Start H2O"
   ]
  },
  {
   "cell_type": "markdown",
   "metadata": {},
   "source": [
    "Import the H2O Python module and `H2OAutoML` class and initialize a local H2O cluster."
   ]
  },
  {
   "cell_type": "code",
   "execution_count": null,
   "metadata": {},
   "outputs": [],
   "source": [
    "import h2o\n",
    "from h2o.automl import H2OAutoML\n",
    "h2o.init()"
   ]
  },
  {
   "cell_type": "markdown",
   "metadata": {},
   "source": [
    "## Load Data"
   ]
  },
  {
   "cell_type": "markdown",
   "metadata": {},
   "source": [
    "Download and copy the dataset to a subfolder named \"data\" in the same directory as your Python script/Jupiter notebook.\n",
    "The dataset contains two files **train.csv** and **test.csv**.\n",
    "\n",
    "We will use the training set(train.csv) to build our machine learning models. For the training set, we provide the outcome (also known as the “ground truth”) for each passenger. Our model will be based on “features” like passengers’ gender and class.\n",
    "\n",
    "The test set is to see how well our model performs on unseen data. For the test set, we do not provide the ground truth for each passenger. It is our job to predict these outcomes. For each passenger in the test set, we will use the model that we trained to predict whether or not they survived the sinking of the Titanic."
   ]
  },
  {
   "cell_type": "markdown",
   "metadata": {},
   "source": [
    "### Data Dictionary"
   ]
  },
  {
   "cell_type": "markdown",
   "metadata": {},
   "source": [
    "|Variable|Defenition|Key|\n",
    "|:--------|:----------|:----|\n",
    "|survival|Survival|0 = No, 1 = Yes|\n",
    "|pclass|Ticket class|1 = 1st, 2 = 2nd, 3 = 3rd|\n",
    "|sex|Sex| |\n",
    "|Age|Age in years| |\n",
    "|sibsp|# of siblings / spouses aboard the Titanic| |\n",
    "|parch|# of parents / children aboard the Titanic| |\n",
    "|ticket|Ticket number| |\n",
    "|fare|Passenger fare| |\n",
    "|cabin|Cabin number| |\n",
    "|embarked|Port of Embarkation|C = Cherbourg, Q = Queenstown, S = Southampton|"
   ]
  },
  {
   "cell_type": "markdown",
   "metadata": {},
   "source": [
    "Source: [Kaggle](https://www.kaggle.com/c/titanic/data)"
   ]
  },
  {
   "cell_type": "markdown",
   "metadata": {},
   "source": [
    "Now we will load the data into H20."
   ]
  },
  {
   "cell_type": "code",
   "execution_count": null,
   "metadata": {
    "scrolled": true
   },
   "outputs": [],
   "source": [
    "# Use local data file\n",
    "data_path = \"./data/train.csv\"\n",
    "\n",
    "# Load data into H2O\n",
    "df = h2o.import_file(data_path)"
   ]
  },
  {
   "cell_type": "markdown",
   "metadata": {},
   "source": [
    "### Handling Missing Data and Adding New Features"
   ]
  },
  {
   "cell_type": "markdown",
   "metadata": {},
   "source": [
    "Next, we have to deal with missing values. If you look at the missing row in the above output, there are 687 missing records in Cabin, 177 in Age, and 2 in Embarked columns.\n",
    "\n",
    "A cabin number looks like ‘A123’ and the letter refers to the deck. Therefore we’re going to extract these and create a new feature called Deck."
   ]
  },
  {
   "cell_type": "code",
   "execution_count": null,
   "metadata": {},
   "outputs": [],
   "source": [
    "df[\"Deck\"] = df[\"Cabin\"].strsplit(\"([0-9]*)\")[0]\n",
    "df.describe()"
   ]
  },
  {
   "cell_type": "markdown",
   "metadata": {},
   "source": [
    "Next, we will calculate the missing age of passengers. I am going to replace the missing values with the mean value along with a group by column Pclass."
   ]
  },
  {
   "cell_type": "code",
   "execution_count": null,
   "metadata": {},
   "outputs": [],
   "source": [
    "df.impute(\"Age\", method=\"mean\", by=[\"Pclass\"])\n",
    "df.describe()"
   ]
  },
  {
   "cell_type": "markdown",
   "metadata": {},
   "source": [
    "Since the Embarked column has only 2 missing values, we will just replace the missing rows with the most common value."
   ]
  },
  {
   "cell_type": "code",
   "execution_count": null,
   "metadata": {},
   "outputs": [],
   "source": [
    "df.impute(\"Embarked\", method=\"mode\")\n",
    "df.describe()"
   ]
  },
  {
   "cell_type": "markdown",
   "metadata": {},
   "source": [
    "Next, I am going to add some more new features by combining values from the existing features."
   ]
  },
  {
   "cell_type": "markdown",
   "metadata": {},
   "source": [
    "#### AgePclass"
   ]
  },
  {
   "cell_type": "code",
   "execution_count": null,
   "metadata": {},
   "outputs": [],
   "source": [
    "df[\"AgePclass\"] = df[\"Age\"]*df[\"Pclass\"]"
   ]
  },
  {
   "cell_type": "markdown",
   "metadata": {},
   "source": [
    "#### NoOfFamilyMembers"
   ]
  },
  {
   "cell_type": "code",
   "execution_count": null,
   "metadata": {},
   "outputs": [],
   "source": [
    "df[\"NoOfFamilyMembers\"] = (df[\"Parch\"]*df[\"SibSp\"])"
   ]
  },
  {
   "cell_type": "markdown",
   "metadata": {},
   "source": [
    "#### IsAlone"
   ]
  },
  {
   "cell_type": "code",
   "execution_count": null,
   "metadata": {},
   "outputs": [],
   "source": [
    "df[\"IsAlone\"] = df[\"NoOfFamilyMembers\"]/df[\"NoOfFamilyMembers\"]\n",
    "df[df[\"IsAlone\"].isna(), \"IsAlone\"] = 0"
   ]
  },
  {
   "cell_type": "markdown",
   "metadata": {},
   "source": [
    "#### FarePerPerson"
   ]
  },
  {
   "cell_type": "code",
   "execution_count": null,
   "metadata": {},
   "outputs": [],
   "source": [
    "df[\"FarePerPerson\"] = df[\"Fare\"]/(df[\"NoOfFamilyMembers\"]+1)"
   ]
  },
  {
   "cell_type": "markdown",
   "metadata": {},
   "source": [
    "Now I am going to update the missing values of the Deck feature with a new value. First, let's see what all alphabets are currently used in this field."
   ]
  },
  {
   "cell_type": "code",
   "execution_count": null,
   "metadata": {},
   "outputs": [],
   "source": [
    " df[\"Deck\"].table()"
   ]
  },
  {
   "cell_type": "markdown",
   "metadata": {},
   "source": [
    "We'll update empty Deck values with \"Z\"."
   ]
  },
  {
   "cell_type": "code",
   "execution_count": null,
   "metadata": {},
   "outputs": [],
   "source": [
    "df[\"Deck\"] = df[\"Deck\"].ascharacter()\n",
    "df[df[\"Deck\"].isna(), \"Deck\"] = \"Z\""
   ]
  },
  {
   "cell_type": "markdown",
   "metadata": {},
   "source": [
    "For classification, the Survived column should be encoded as categorical (aka. \"factor\" or \"enum\"). Let's take a look."
   ]
  },
  {
   "cell_type": "code",
   "execution_count": null,
   "metadata": {
    "scrolled": true
   },
   "outputs": [],
   "source": [
    "df.describe()"
   ]
  },
  {
   "cell_type": "markdown",
   "metadata": {},
   "source": [
    "By default that cell got processed as an integer. Pclass, Deck and IsAlone should also be enum as it represents the socio-economic status of passengers. We need to convert these into an enum. We can do that by just executing the following line,"
   ]
  },
  {
   "cell_type": "code",
   "execution_count": null,
   "metadata": {},
   "outputs": [],
   "source": [
    "df[\"Survived\"]= df[\"Survived\"].asfactor()\n",
    "df[\"Pclass\"]= df[\"Pclass\"].asfactor()\n",
    "df[\"IsAlone\"]= df[\"IsAlone\"].asfactor()\n",
    "df[\"Deck\"] = df[\"Deck\"].asfactor()"
   ]
  },
  {
   "cell_type": "markdown",
   "metadata": {},
   "source": [
    "Now let's see what happend."
   ]
  },
  {
   "cell_type": "code",
   "execution_count": null,
   "metadata": {},
   "outputs": [],
   "source": [
    "df.describe()"
   ]
  },
  {
   "cell_type": "markdown",
   "metadata": {},
   "source": [
    "As you can see the data type of Survived and Pclass columns are now enum. Let's leave all the categorical features to be auto handled by H20."
   ]
  },
  {
   "cell_type": "markdown",
   "metadata": {},
   "source": [
    "### Generate x and Y values"
   ]
  },
  {
   "cell_type": "markdown",
   "metadata": {},
   "source": [
    "Now, let's identify the response & predictor columns by saving them as x and y. The PassengerId, Name and Ticket columns are unique identifiers so we'll remove those from the set of our predictors along with the Cabin feature."
   ]
  },
  {
   "cell_type": "code",
   "execution_count": null,
   "metadata": {},
   "outputs": [],
   "source": [
    "y = \"Survived\"\n",
    "x = df.columns\n",
    "x.remove(y)\n",
    "x.remove(\"PassengerId\")\n",
    "x.remove(\"Name\")\n",
    "x.remove(\"Ticket\")\n",
    "x.remove(\"Cabin\")"
   ]
  },
  {
   "cell_type": "markdown",
   "metadata": {},
   "source": [
    "## Run AutoML"
   ]
  },
  {
   "cell_type": "markdown",
   "metadata": {},
   "source": [
    "Run AutoML, stopping after 15 models. The max_models argument specifies the number of individual (or \"base\") models and does not include the two ensemble models that are trained at the end. We set a seed value for reproducibility. H2O Deep Learning models are not reproducible by default for performance reasons, so for reproducibility, we are adding \"DeepLearning\" to exclude_algos parameter. The exploitation_ratio parameter is for specifying the budget ratio (between 0 and 1) dedicated to the exploitation (vs exploration) phase. By default, the exploitation phase is disabled (exploitation_ratio=0) as this is still experimental; to activate it, it is recommended to try a ratio around 0.1. Learn more about exploitation and exploration from [here](https://www.manifold.ai/exploration-vs-exploitation-in-reinforcement-learning)."
   ]
  },
  {
   "cell_type": "code",
   "execution_count": null,
   "metadata": {},
   "outputs": [],
   "source": [
    "aml = H2OAutoML(max_models = 15, seed = 1, nfolds=15, exclude_algos = [\"DeepLearning\"], exploitation_ratio = 0.15)\n",
    "aml.train(x = x, y = y, training_frame = df)"
   ]
  },
  {
   "cell_type": "markdown",
   "metadata": {},
   "source": [
    "## Leaderboard"
   ]
  },
  {
   "cell_type": "markdown",
   "metadata": {},
   "source": [
    "Next, we will view the AutoML Leaderboard. Since we did not specify a leaderboard_frame in the H2OAutoML.train() method for scoring and ranking the models, the AutoML leaderboard uses cross-validation metrics to rank the models.\n",
    "\n",
    "A default performance metric for each machine learning task (binary classification, multiclass classification, regression) is specified internally and the leaderboard will be sorted by that metric. In the case of binary classification, the default ranking metric is Area Under the ROC Curve (AUC). In the future, the user will be able to specify any of the H2O metrics so that different metrics can be used to generate rankings on the leaderboard.\n",
    "\n",
    "The leader model is stored at aml.leader and the leaderboard is stored at aml.leaderboard."
   ]
  },
  {
   "cell_type": "code",
   "execution_count": null,
   "metadata": {},
   "outputs": [],
   "source": [
    "lb = aml.leaderboard"
   ]
  },
  {
   "cell_type": "markdown",
   "metadata": {},
   "source": [
    "Now we will view a snapshot of the top models. Here we should see the two Stacked Ensembles at or near the top of the leaderboard. Stacked Ensembles can almost always outperform a single model."
   ]
  },
  {
   "cell_type": "code",
   "execution_count": null,
   "metadata": {},
   "outputs": [],
   "source": [
    "lb.head()"
   ]
  },
  {
   "cell_type": "markdown",
   "metadata": {},
   "source": [
    "To view the entire leaderboard, specify the `rows` argument of the `head()` method as the total number of rows:"
   ]
  },
  {
   "cell_type": "code",
   "execution_count": null,
   "metadata": {},
   "outputs": [],
   "source": [
    "lb.head(rows=lb.nrows)"
   ]
  },
  {
   "cell_type": "markdown",
   "metadata": {},
   "source": [
    "As we can see the leader in this example is [GBM](https://towardsdatascience.com/understanding-gradient-boosting-machines-9be756fe76ab) which stands for Gradient Boosting Machines with an AUC value of 0.876117. \n",
    "\n",
    "AUC ranges in value from 0 to 1. A model whose predictions are 100% wrong has an AUC of 0.0; one whose predictions are 100% correct has an AUC of 1.0. Learn more about AUC from [here](https://developers.google.com/machine-learning/crash-course/classification/roc-and-auc).\n",
    "\n",
    "You can google and see what all are other values and how they affect the accuracy of our model."
   ]
  },
  {
   "cell_type": "markdown",
   "metadata": {},
   "source": [
    "## Save Leader Model"
   ]
  },
  {
   "cell_type": "markdown",
   "metadata": {},
   "source": [
    "There are two ways to save the leader model -- binary format and MOJO format. If you're taking your leader model to production, then I'd suggest the MOJO format since it's optimized for production use."
   ]
  },
  {
   "cell_type": "code",
   "execution_count": null,
   "metadata": {},
   "outputs": [],
   "source": [
    "h2o.save_model(aml.leader, path = \"./out/titanic_survivability_model_bin\")"
   ]
  },
  {
   "cell_type": "code",
   "execution_count": null,
   "metadata": {},
   "outputs": [],
   "source": [
    "import os\n",
    "mojo_out_folder = \"./out/titanic_survivability_model_mojo/\"\n",
    "mojo_file_name = \"mojo_out.zip\"\n",
    "try:\n",
    "    os.remove(mojo_out_folder + mojo_file_name)\n",
    "except OSError:\n",
    "    pass\n",
    "os.makedirs(mojo_out_folder, exist_ok=True)\n",
    "from zipfile import ZipFile\n",
    "with ZipFile(mojo_out_folder + mojo_file_name, 'w') as file:\n",
    "    pass\n",
    "aml.leader.download_mojo(path = mojo_out_folder + mojo_file_name)"
   ]
  },
  {
   "cell_type": "markdown",
   "metadata": {},
   "source": [
    "## Prediction"
   ]
  },
  {
   "cell_type": "code",
   "execution_count": null,
   "metadata": {},
   "outputs": [],
   "source": [
    "In this step we will load the test.csv file to H2O and predict the survivability of each passenger."
   ]
  },
  {
   "cell_type": "code",
   "execution_count": null,
   "metadata": {},
   "outputs": [],
   "source": [
    "# Use local data file\n",
    "test_data_path = \"./data/test.csv\"\n",
    "\n",
    "# Load data into H2O\n",
    "test_df = h2o.import_file(test_data_path)"
   ]
  },
  {
   "cell_type": "code",
   "execution_count": null,
   "metadata": {},
   "outputs": [],
   "source": [
    "test_df.describe()"
   ]
  },
  {
   "cell_type": "markdown",
   "metadata": {},
   "source": [
    "We'll add the newly created features and convert Pclass as we did for the training dataset. You can also see that a row is missing the value for the fare. I am going to update the missing value with mean along with a group by column Pclass."
   ]
  },
  {
   "cell_type": "code",
   "execution_count": null,
   "metadata": {},
   "outputs": [],
   "source": [
    "test_df[\"Deck\"] = test_df[\"Cabin\"].strsplit(\"([0-9]*)\")[0]\n",
    "test_df[\"AgePclass\"] = test_df[\"Age\"]*test_df[\"Pclass\"]\n",
    "test_df[\"NoOfFamilyMembers\"] = (test_df[\"Parch\"]*test_df[\"SibSp\"])\n",
    "test_df[\"IsAlone\"] = test_df[\"NoOfFamilyMembers\"]/test_df[\"NoOfFamilyMembers\"]\n",
    "test_df[test_df[\"IsAlone\"].isna(), \"IsAlone\"] = 0\n",
    "test_df[\"FarePerPerson\"] = test_df[\"Fare\"]/(test_df[\"NoOfFamilyMembers\"]+1)\n",
    "\n",
    "test_df[\"Pclass\"]= test_df[\"Pclass\"].asfactor()\n",
    "test_df.impute(\"Fare\", method=\"mean\", by=[\"Pclass\"]) \n",
    "test_df.describe()"
   ]
  },
  {
   "cell_type": "markdown",
   "metadata": {},
   "source": [
    "We will now remove the unique identifier columns from the dataset."
   ]
  },
  {
   "cell_type": "code",
   "execution_count": null,
   "metadata": {},
   "outputs": [],
   "source": [
    "test_df = test_df[:, [\"Pclass\", \"Sex\", \"Age\", \"SibSp\", \"Parch\", \"Fare\", \"Embarked\", \"Deck\", \"AgePclass\", \"NoOfFamilyMembers\", \"IsAlone\", \"FarePerPerson\"]]"
   ]
  },
  {
   "cell_type": "markdown",
   "metadata": {},
   "source": [
    "Using the predict() function with AutoML generates predictions on the leader model from the run. The order of the rows in the results is the same as the order in which the data was loaded, even if some rows fail (for example, due to missing values or unseen factor levels)."
   ]
  },
  {
   "cell_type": "code",
   "execution_count": null,
   "metadata": {},
   "outputs": [],
   "source": [
    "# To generate predictions on a test set, you can make predictions\n",
    "# directly on the `\"H2OAutoML\"` object or on the leader model\n",
    "# object directly\n",
    "preds = aml.predict(test_df)\n",
    "\n",
    "# or:\n",
    "# preds = aml.leader.predict(test)\n",
    "preds"
   ]
  },
  {
   "cell_type": "markdown",
   "metadata": {},
   "source": [
    "p0 is the probability (between 0 and 1) that class 0 is chosen and p1 is the probability (between 0 and 1) that class 1 is chosen.\n",
    "\n",
    "You can use this Dataframe for further analysis."
   ]
  },
  {
   "cell_type": "markdown",
   "metadata": {},
   "source": [
    "## Conclusion"
   ]
  },
  {
   "cell_type": "markdown",
   "metadata": {},
   "source": [
    "Hooray! We have covered almost all the portions that you need to know for getting started with AutoML. AutoML is the process of automating the time consuming, iterative tasks of machine learning model development. It allows data scientists, analysts, and developers of any experience level to build ML models with high scale, efficiency, and productivity all while sustaining model quality.\n",
    "We have started with the installation of H2O, then we loaded the data to H20, checked missing data, updated those missing values and created new features. Then we trained the dataset using H2O AutoML with 15 different models and found out that GBM is a good candidate for handling this specific dataset. We also learned how to save this model and to use it for making predictions later.\n",
    "There are many things you can still do to improve this piece of code. You can do more feature engineering, standardize the numerical values, find the correlation between the dependant and independent variables, etc."
   ]
  }
 ],
 "metadata": {
  "kernelspec": {
   "display_name": "Python 3",
   "language": "python",
   "name": "python3"
  },
  "language_info": {
   "codemirror_mode": {
    "name": "ipython",
    "version": 3
   },
   "file_extension": ".py",
   "mimetype": "text/x-python",
   "name": "python",
   "nbconvert_exporter": "python",
   "pygments_lexer": "ipython3",
   "version": "3.6.8"
  }
 },
 "nbformat": 4,
 "nbformat_minor": 4
}
